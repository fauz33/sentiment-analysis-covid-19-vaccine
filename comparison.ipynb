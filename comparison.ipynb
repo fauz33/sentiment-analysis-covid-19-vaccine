{
 "cells": [
  {
   "cell_type": "code",
   "execution_count": 24,
   "id": "de9c0ab2",
   "metadata": {
    "ExecuteTime": {
     "end_time": "2022-06-11T17:27:57.090687Z",
     "start_time": "2022-06-11T17:27:57.084963Z"
    }
   },
   "outputs": [],
   "source": [
    "import string,re\n",
    "import pandas as pd\n",
    "import seaborn as sns\n",
    "import matplotlib.pyplot as plt\n",
    "import plotly.express as px\n",
    "import joblib\n",
    "\n",
    "from sklearn.feature_extraction.text import TfidfVectorizer\n",
    "from sklearn.linear_model import LogisticRegression\n",
    "from sklearn.feature_extraction.text import CountVectorizer\n",
    "from sklearn.metrics import (ConfusionMatrixDisplay,classification_report,accuracy_score,\n",
    "                            precision_score,roc_auc_score)\n",
    "\n",
    "pd.set_option('display.max_colwidth', 400)\n",
    "pd.set_option('display.max_rows', 1000) "
   ]
  },
  {
   "cell_type": "code",
   "execution_count": 2,
   "id": "f6b3ad65",
   "metadata": {
    "ExecuteTime": {
     "end_time": "2022-06-11T17:18:52.065067Z",
     "start_time": "2022-06-11T17:18:51.403560Z"
    }
   },
   "outputs": [],
   "source": [
    "#Import fastai latest dataset\n",
    "df_fastai = pd.read_csv(\"dataset/vax_tweets_fastai_cleaned.csv\")"
   ]
  },
  {
   "cell_type": "code",
   "execution_count": 3,
   "id": "d513e9e1",
   "metadata": {
    "ExecuteTime": {
     "end_time": "2022-06-11T17:18:52.266939Z",
     "start_time": "2022-06-11T17:18:52.066980Z"
    }
   },
   "outputs": [],
   "source": [
    "#Import latest dataset\n",
    "df_LR = pd.read_pickle('dataset/vax_tweets_sentiment_latest_labeled.pkl')"
   ]
  },
  {
   "cell_type": "code",
   "execution_count": 4,
   "id": "8dc861cf",
   "metadata": {
    "ExecuteTime": {
     "end_time": "2022-06-11T17:18:52.286694Z",
     "start_time": "2022-06-11T17:18:52.269954Z"
    }
   },
   "outputs": [
    {
     "data": {
      "text/html": [
       "<div>\n",
       "<style scoped>\n",
       "    .dataframe tbody tr th:only-of-type {\n",
       "        vertical-align: middle;\n",
       "    }\n",
       "\n",
       "    .dataframe tbody tr th {\n",
       "        vertical-align: top;\n",
       "    }\n",
       "\n",
       "    .dataframe thead th {\n",
       "        text-align: right;\n",
       "    }\n",
       "</style>\n",
       "<table border=\"1\" class=\"dataframe\">\n",
       "  <thead>\n",
       "    <tr style=\"text-align: right;\">\n",
       "      <th></th>\n",
       "      <th>orig_text</th>\n",
       "      <th>sentiment</th>\n",
       "      <th>cleaned_text</th>\n",
       "      <th>user_name</th>\n",
       "      <th>date</th>\n",
       "      <th>hashtags</th>\n",
       "    </tr>\n",
       "  </thead>\n",
       "  <tbody>\n",
       "    <tr>\n",
       "      <th>43363</th>\n",
       "      <td>induces antibodies lasting for at least 6 months. #</td>\n",
       "      <td>neutral</td>\n",
       "      <td>induces antibodies lasting least months</td>\n",
       "      <td>Mahmoud Halablab</td>\n",
       "      <td>2021-04-09</td>\n",
       "      <td>['Moderna', 'Covid_19', 'vaccine', 'كورونا']</td>\n",
       "    </tr>\n",
       "    <tr>\n",
       "      <th>154368</th>\n",
       "      <td>BOOSTED for Grampie, Papa, Bill, Iris, every human I come in contact with at work, for Jason and every guy and gal</td>\n",
       "      <td>neutral</td>\n",
       "      <td>boosted grampie papa bill iris human come contact work jason guy gal</td>\n",
       "      <td>Daisy Ruth</td>\n",
       "      <td>2021-11-05</td>\n",
       "      <td>NaN</td>\n",
       "    </tr>\n",
       "    <tr>\n",
       "      <th>118390</th>\n",
       "      <td>Go team  Yahoo News: Moderna may be superior to Pfizer against Delta; breakthrough odds rise with time.\\n</td>\n",
       "      <td>neutral</td>\n",
       "      <td>go team yahoo news moderna may superior pfizer against delta breakthrough odds rise time</td>\n",
       "      <td>Elastep</td>\n",
       "      <td>2021-08-10</td>\n",
       "      <td>['Moderna']</td>\n",
       "    </tr>\n",
       "    <tr>\n",
       "      <th>157043</th>\n",
       "      <td>Stil not allowed</td>\n",
       "      <td>neutral</td>\n",
       "      <td>stil not allowed</td>\n",
       "      <td>☯️ Antonio Tiggelaar 🏞️</td>\n",
       "      <td>2021-11-11</td>\n",
       "      <td>['sputnikV']</td>\n",
       "    </tr>\n",
       "    <tr>\n",
       "      <th>30167</th>\n",
       "      <td>The  vaccine only exists because of years of funding leading up to 2020. A large chunck was ODA f</td>\n",
       "      <td>neutral</td>\n",
       "      <td>vaccine only exists because years funding leading up large chunck oda</td>\n",
       "      <td>Adam John Ritchie</td>\n",
       "      <td>2021-03-20</td>\n",
       "      <td>['OxfordAstraZeneca']</td>\n",
       "    </tr>\n",
       "    <tr>\n",
       "      <th>136098</th>\n",
       "      <td>Who else thinks Spikevax sounds like something youd order at Starbucks\\nUm yes, can I get a Venti half sweet, dou</td>\n",
       "      <td>negative</td>\n",
       "      <td>else thinks spikevax sounds like something would order starbucks um yes can get venti half sweet dou</td>\n",
       "      <td>✨Mary✨</td>\n",
       "      <td>2021-09-16</td>\n",
       "      <td>NaN</td>\n",
       "    </tr>\n",
       "    <tr>\n",
       "      <th>35588</th>\n",
       "      <td>Yes, the very same David Livermore,  \\nmicrobiologist from the University of East Anglia</td>\n",
       "      <td>neutral</td>\n",
       "      <td>yes very same david livermore microbiologist from university east anglia</td>\n",
       "      <td>The Conspiracy Report</td>\n",
       "      <td>2021-03-27</td>\n",
       "      <td>NaN</td>\n",
       "    </tr>\n",
       "    <tr>\n",
       "      <th>115660</th>\n",
       "      <td>vaccines production in India to go fully on stream in September: RDIF\\n\\n</td>\n",
       "      <td>neutral</td>\n",
       "      <td>vaccines production india go fully stream september rdif</td>\n",
       "      <td>Gaon Connection English</td>\n",
       "      <td>2021-08-03</td>\n",
       "      <td>['SputnikV', 'COVID19', 'Sputnik']</td>\n",
       "    </tr>\n",
       "    <tr>\n",
       "      <th>45741</th>\n",
       "      <td>The Ministry of Health and Population of  confirmed that Egypt will receive the</td>\n",
       "      <td>neutral</td>\n",
       "      <td>ministry health population confirmed egypt receive</td>\n",
       "      <td>China Economy</td>\n",
       "      <td>2021-04-08</td>\n",
       "      <td>['Egypt', 'China', 'Sinopharm', 'vaccines']</td>\n",
       "    </tr>\n",
       "    <tr>\n",
       "      <th>67391</th>\n",
       "      <td>Scientists confirmed that neutralizing antibodies are key to protection against COVID-19 and their level after vacc</td>\n",
       "      <td>neutral</td>\n",
       "      <td>scientists confirmed neutralizing antibodies key protection against covid level after vacc</td>\n",
       "      <td>Buren Chen</td>\n",
       "      <td>2021-05-19</td>\n",
       "      <td>NaN</td>\n",
       "    </tr>\n",
       "  </tbody>\n",
       "</table>\n",
       "</div>"
      ],
      "text/plain": [
       "                                                                                                                   orig_text  \\\n",
       "43363                                                                   induces antibodies lasting for at least 6 months. #    \n",
       "154368   BOOSTED for Grampie, Papa, Bill, Iris, every human I come in contact with at work, for Jason and every guy and gal    \n",
       "118390             Go team  Yahoo News: Moderna may be superior to Pfizer against Delta; breakthrough odds rise with time.\\n   \n",
       "157043                                                                                                     Stil not allowed    \n",
       "30167                     The  vaccine only exists because of years of funding leading up to 2020. A large chunck was ODA f    \n",
       "136098    Who else thinks Spikevax sounds like something youd order at Starbucks\\nUm yes, can I get a Venti half sweet, dou    \n",
       "35588                              Yes, the very same David Livermore,  \\nmicrobiologist from the University of East Anglia    \n",
       "115660                                           vaccines production in India to go fully on stream in September: RDIF\\n\\n     \n",
       "45741                                    The Ministry of Health and Population of  confirmed that Egypt will receive the       \n",
       "67391   Scientists confirmed that neutralizing antibodies are key to protection against COVID-19 and their level after vacc    \n",
       "\n",
       "       sentiment  \\\n",
       "43363    neutral   \n",
       "154368   neutral   \n",
       "118390   neutral   \n",
       "157043   neutral   \n",
       "30167    neutral   \n",
       "136098  negative   \n",
       "35588    neutral   \n",
       "115660   neutral   \n",
       "45741    neutral   \n",
       "67391    neutral   \n",
       "\n",
       "                                                                                                cleaned_text  \\\n",
       "43363                                                                induces antibodies lasting least months   \n",
       "154368                                  boosted grampie papa bill iris human come contact work jason guy gal   \n",
       "118390              go team yahoo news moderna may superior pfizer against delta breakthrough odds rise time   \n",
       "157043                                                                                      stil not allowed   \n",
       "30167                                  vaccine only exists because years funding leading up large chunck oda   \n",
       "136098  else thinks spikevax sounds like something would order starbucks um yes can get venti half sweet dou   \n",
       "35588                               yes very same david livermore microbiologist from university east anglia   \n",
       "115660                                              vaccines production india go fully stream september rdif   \n",
       "45741                                                     ministry health population confirmed egypt receive   \n",
       "67391             scientists confirmed neutralizing antibodies key protection against covid level after vacc   \n",
       "\n",
       "                      user_name        date  \\\n",
       "43363          Mahmoud Halablab  2021-04-09   \n",
       "154368               Daisy Ruth  2021-11-05   \n",
       "118390                  Elastep  2021-08-10   \n",
       "157043  ☯️ Antonio Tiggelaar 🏞️  2021-11-11   \n",
       "30167         Adam John Ritchie  2021-03-20   \n",
       "136098                   ✨Mary✨  2021-09-16   \n",
       "35588     The Conspiracy Report  2021-03-27   \n",
       "115660  Gaon Connection English  2021-08-03   \n",
       "45741             China Economy  2021-04-08   \n",
       "67391                Buren Chen  2021-05-19   \n",
       "\n",
       "                                            hashtags  \n",
       "43363   ['Moderna', 'Covid_19', 'vaccine', 'كورونا']  \n",
       "154368                                           NaN  \n",
       "118390                                   ['Moderna']  \n",
       "157043                                  ['sputnikV']  \n",
       "30167                          ['OxfordAstraZeneca']  \n",
       "136098                                           NaN  \n",
       "35588                                            NaN  \n",
       "115660            ['SputnikV', 'COVID19', 'Sputnik']  \n",
       "45741    ['Egypt', 'China', 'Sinopharm', 'vaccines']  \n",
       "67391                                            NaN  "
      ]
     },
     "execution_count": 4,
     "metadata": {},
     "output_type": "execute_result"
    }
   ],
   "source": [
    "df_fastai.sample(10)"
   ]
  },
  {
   "cell_type": "code",
   "execution_count": 5,
   "id": "5a019af6",
   "metadata": {
    "ExecuteTime": {
     "end_time": "2022-06-11T17:18:52.331352Z",
     "start_time": "2022-06-11T17:18:52.288108Z"
    }
   },
   "outputs": [
    {
     "data": {
      "text/html": [
       "<div>\n",
       "<style scoped>\n",
       "    .dataframe tbody tr th:only-of-type {\n",
       "        vertical-align: middle;\n",
       "    }\n",
       "\n",
       "    .dataframe tbody tr th {\n",
       "        vertical-align: top;\n",
       "    }\n",
       "\n",
       "    .dataframe thead th {\n",
       "        text-align: right;\n",
       "    }\n",
       "</style>\n",
       "<table border=\"1\" class=\"dataframe\">\n",
       "  <thead>\n",
       "    <tr style=\"text-align: right;\">\n",
       "      <th></th>\n",
       "      <th>orig_text</th>\n",
       "      <th>cleaned_text</th>\n",
       "      <th>user_name</th>\n",
       "      <th>date</th>\n",
       "      <th>hashtags</th>\n",
       "      <th>sentiment</th>\n",
       "    </tr>\n",
       "  </thead>\n",
       "  <tbody>\n",
       "    <tr>\n",
       "      <th>48237</th>\n",
       "      <td>I have added a new channel 18-44 (COVAXIN Only):\\nhttps://t.co/HTJstdAVOQ\\n\\n(1/2)\\n\\n#GetVaccinated #COVID19Vaccine… https://t.co/PNIQFZJrDH</td>\n",
       "      <td>added new channel covaxin only</td>\n",
       "      <td>Mumbai Vaccine Slots</td>\n",
       "      <td>2021-05-30</td>\n",
       "      <td>['GetVaccinated', 'COVID19Vaccine']</td>\n",
       "      <td>neutral</td>\n",
       "    </tr>\n",
       "    <tr>\n",
       "      <th>94021</th>\n",
       "      <td>#Delhi is getting better \\n#MaskUp #vaccination \\n#COVID19 #Covaxin https://t.co/5NM30fHDzG</td>\n",
       "      <td>getting better</td>\n",
       "      <td>Mayank Arya 🇮🇳🇮🇳</td>\n",
       "      <td>2021-08-11</td>\n",
       "      <td>['Delhi', 'MaskUp', 'vaccination', 'COVID19', 'Covaxin']</td>\n",
       "      <td>positive</td>\n",
       "    </tr>\n",
       "    <tr>\n",
       "      <th>76376</th>\n",
       "      <td>2 vaccine doses gave 95% protection from death against Covid-19's Delta variant: Centre | Latest News India - Hindu… https://t.co/fa3Fz28H61</td>\n",
       "      <td>vaccine doses gave protection from death against covid delta variant centre latest news india hindu</td>\n",
       "      <td>FirstNameJohn</td>\n",
       "      <td>2021-07-16</td>\n",
       "      <td>NaN</td>\n",
       "      <td>neutral</td>\n",
       "    </tr>\n",
       "    <tr>\n",
       "      <th>26775</th>\n",
       "      <td>Sputnik's India plans: Aim to to producer 50M/month in partnership with 5 manufacturers, some of whom are manufactu… https://t.co/WEcZ6q7Sek</td>\n",
       "      <td>sputniks india plans aim producer mmonth partnership manufacturers some manufactu</td>\n",
       "      <td>Tanvi Shukla</td>\n",
       "      <td>2021-04-13</td>\n",
       "      <td>NaN</td>\n",
       "      <td>neutral</td>\n",
       "    </tr>\n",
       "    <tr>\n",
       "      <th>108175</th>\n",
       "      <td>China’s vaccine producer #Sinovac is fulfilling demand from Singapore for inactivated COVID-19 vaccines with an add… https://t.co/DwuQFmixmN</td>\n",
       "      <td>chinas vaccine producer fulfilling demand from singapore inactivated covid vaccines add</td>\n",
       "      <td>China Perspective</td>\n",
       "      <td>2021-09-15</td>\n",
       "      <td>['Sinovac']</td>\n",
       "      <td>neutral</td>\n",
       "    </tr>\n",
       "    <tr>\n",
       "      <th>48926</th>\n",
       "      <td>Indian Immunologicals Limited (IIL) to start production of drug substance for #Covaxin under Mission #COVIDSuraksha… https://t.co/tZPCGxqdGl</td>\n",
       "      <td>indian immunologicals limited iil start production drug substance under mission</td>\n",
       "      <td>Pankaj Srivastava</td>\n",
       "      <td>2021-05-28</td>\n",
       "      <td>['Covaxin', 'COVIDSuraksha']</td>\n",
       "      <td>neutral</td>\n",
       "    </tr>\n",
       "    <tr>\n",
       "      <th>24418</th>\n",
       "      <td>@sagar_denny @SrihpsdV @ShamikaRavi @WHO @sputnikvaccine @TheLancet Problem is that mass produced #sputnikv is diff… https://t.co/U2T5V1roD8</td>\n",
       "      <td>problem mass produced different</td>\n",
       "      <td>Gregor Makarian</td>\n",
       "      <td>2021-04-12</td>\n",
       "      <td>['sputnikv']</td>\n",
       "      <td>negative</td>\n",
       "    </tr>\n",
       "    <tr>\n",
       "      <th>50461</th>\n",
       "      <td>#Serbia's President thanks #Russia for new batch of #SputnikV vaccine https://t.co/FPUamO8fhB</td>\n",
       "      <td>president thanks new batch vaccine</td>\n",
       "      <td>Olga Semenova</td>\n",
       "      <td>2021-05-28</td>\n",
       "      <td>['Serbia', 'Russia', 'SputnikV']</td>\n",
       "      <td>positive</td>\n",
       "    </tr>\n",
       "    <tr>\n",
       "      <th>102979</th>\n",
       "      <td>@business You don't SAY....Hmm \\n#COVID19\\n#Moderna \\n#blackgoo https://t.co/rfH3LmgL30</td>\n",
       "      <td>not hmm</td>\n",
       "      <td>Christine Smith</td>\n",
       "      <td>2021-09-01</td>\n",
       "      <td>['COVID19', 'Moderna', 'blackgoo']</td>\n",
       "      <td>neutral</td>\n",
       "    </tr>\n",
       "    <tr>\n",
       "      <th>34233</th>\n",
       "      <td>BREAKING: #Serbia starts #SputnikV production! \\n\\nRDIF &amp;amp; Institute of Virology, Vaccines and Sera “Torlak” join forc… https://t.co/TtQkX7B5uy</td>\n",
       "      <td>breaking starts production rdif institute virology vaccines sera torlak join forc</td>\n",
       "      <td>Sputnik V</td>\n",
       "      <td>2021-04-14</td>\n",
       "      <td>['Serbia', 'SputnikV']</td>\n",
       "      <td>neutral</td>\n",
       "    </tr>\n",
       "  </tbody>\n",
       "</table>\n",
       "</div>"
      ],
      "text/plain": [
       "                                                                                                                                                 orig_text  \\\n",
       "48237        I have added a new channel 18-44 (COVAXIN Only):\\nhttps://t.co/HTJstdAVOQ\\n\\n(1/2)\\n\\n#GetVaccinated #COVID19Vaccine… https://t.co/PNIQFZJrDH   \n",
       "94021                                                          #Delhi is getting better \\n#MaskUp #vaccination \\n#COVID19 #Covaxin https://t.co/5NM30fHDzG   \n",
       "76376         2 vaccine doses gave 95% protection from death against Covid-19's Delta variant: Centre | Latest News India - Hindu… https://t.co/fa3Fz28H61   \n",
       "26775         Sputnik's India plans: Aim to to producer 50M/month in partnership with 5 manufacturers, some of whom are manufactu… https://t.co/WEcZ6q7Sek   \n",
       "108175        China’s vaccine producer #Sinovac is fulfilling demand from Singapore for inactivated COVID-19 vaccines with an add… https://t.co/DwuQFmixmN   \n",
       "48926         Indian Immunologicals Limited (IIL) to start production of drug substance for #Covaxin under Mission #COVIDSuraksha… https://t.co/tZPCGxqdGl   \n",
       "24418         @sagar_denny @SrihpsdV @ShamikaRavi @WHO @sputnikvaccine @TheLancet Problem is that mass produced #sputnikv is diff… https://t.co/U2T5V1roD8   \n",
       "50461                                                        #Serbia's President thanks #Russia for new batch of #SputnikV vaccine https://t.co/FPUamO8fhB   \n",
       "102979                                                             @business You don't SAY....Hmm \\n#COVID19\\n#Moderna \\n#blackgoo https://t.co/rfH3LmgL30   \n",
       "34233   BREAKING: #Serbia starts #SputnikV production! \\n\\nRDIF &amp; Institute of Virology, Vaccines and Sera “Torlak” join forc… https://t.co/TtQkX7B5uy   \n",
       "\n",
       "                                                                                               cleaned_text  \\\n",
       "48237                                                                        added new channel covaxin only   \n",
       "94021                                                                                        getting better   \n",
       "76376   vaccine doses gave protection from death against covid delta variant centre latest news india hindu   \n",
       "26775                     sputniks india plans aim producer mmonth partnership manufacturers some manufactu   \n",
       "108175              chinas vaccine producer fulfilling demand from singapore inactivated covid vaccines add   \n",
       "48926                       indian immunologicals limited iil start production drug substance under mission   \n",
       "24418                                                                       problem mass produced different   \n",
       "50461                                                                    president thanks new batch vaccine   \n",
       "102979                                                                                              not hmm   \n",
       "34233                     breaking starts production rdif institute virology vaccines sera torlak join forc   \n",
       "\n",
       "                   user_name        date  \\\n",
       "48237   Mumbai Vaccine Slots  2021-05-30   \n",
       "94021       Mayank Arya 🇮🇳🇮🇳  2021-08-11   \n",
       "76376          FirstNameJohn  2021-07-16   \n",
       "26775           Tanvi Shukla  2021-04-13   \n",
       "108175     China Perspective  2021-09-15   \n",
       "48926      Pankaj Srivastava  2021-05-28   \n",
       "24418        Gregor Makarian  2021-04-12   \n",
       "50461          Olga Semenova  2021-05-28   \n",
       "102979       Christine Smith  2021-09-01   \n",
       "34233              Sputnik V  2021-04-14   \n",
       "\n",
       "                                                        hashtags sentiment  \n",
       "48237                        ['GetVaccinated', 'COVID19Vaccine']   neutral  \n",
       "94021   ['Delhi', 'MaskUp', 'vaccination', 'COVID19', 'Covaxin']  positive  \n",
       "76376                                                        NaN   neutral  \n",
       "26775                                                        NaN   neutral  \n",
       "108175                                               ['Sinovac']   neutral  \n",
       "48926                               ['Covaxin', 'COVIDSuraksha']   neutral  \n",
       "24418                                               ['sputnikv']  negative  \n",
       "50461                           ['Serbia', 'Russia', 'SputnikV']  positive  \n",
       "102979                        ['COVID19', 'Moderna', 'blackgoo']   neutral  \n",
       "34233                                     ['Serbia', 'SputnikV']   neutral  "
      ]
     },
     "execution_count": 5,
     "metadata": {},
     "output_type": "execute_result"
    }
   ],
   "source": [
    "df_LR.sample(10)"
   ]
  },
  {
   "cell_type": "code",
   "execution_count": 6,
   "id": "3716165e",
   "metadata": {
    "ExecuteTime": {
     "end_time": "2022-06-11T17:18:52.450134Z",
     "start_time": "2022-06-11T17:18:52.333313Z"
    }
   },
   "outputs": [
    {
     "data": {
      "text/plain": [
       "orig_text           0\n",
       "sentiment           0\n",
       "cleaned_text        0\n",
       "user_name           1\n",
       "date                0\n",
       "hashtags        34064\n",
       "dtype: int64"
      ]
     },
     "execution_count": 6,
     "metadata": {},
     "output_type": "execute_result"
    }
   ],
   "source": [
    "df_fastai.isnull().sum()"
   ]
  },
  {
   "cell_type": "code",
   "execution_count": 7,
   "id": "3b4807b9",
   "metadata": {
    "ExecuteTime": {
     "end_time": "2022-06-11T17:18:52.548480Z",
     "start_time": "2022-06-11T17:18:52.451515Z"
    }
   },
   "outputs": [
    {
     "data": {
      "text/plain": [
       "orig_text           0\n",
       "cleaned_text        0\n",
       "user_name           1\n",
       "date                0\n",
       "hashtags        28188\n",
       "sentiment           0\n",
       "dtype: int64"
      ]
     },
     "execution_count": 7,
     "metadata": {},
     "output_type": "execute_result"
    }
   ],
   "source": [
    "df_LR.isnull().sum()"
   ]
  },
  {
   "cell_type": "code",
   "execution_count": 8,
   "id": "a4e161c0",
   "metadata": {
    "ExecuteTime": {
     "end_time": "2022-06-11T17:18:52.555012Z",
     "start_time": "2022-06-11T17:18:52.549953Z"
    }
   },
   "outputs": [
    {
     "data": {
      "text/plain": [
       "(162233, 6)"
      ]
     },
     "execution_count": 8,
     "metadata": {},
     "output_type": "execute_result"
    }
   ],
   "source": [
    "df_fastai.shape"
   ]
  },
  {
   "cell_type": "code",
   "execution_count": 9,
   "id": "a9d75b9e",
   "metadata": {
    "ExecuteTime": {
     "end_time": "2022-06-11T17:18:52.567433Z",
     "start_time": "2022-06-11T17:18:52.556267Z"
    }
   },
   "outputs": [
    {
     "data": {
      "text/plain": [
       "(135298, 6)"
      ]
     },
     "execution_count": 9,
     "metadata": {},
     "output_type": "execute_result"
    }
   ],
   "source": [
    "df_LR.shape"
   ]
  },
  {
   "cell_type": "code",
   "execution_count": 10,
   "id": "aae78457",
   "metadata": {
    "ExecuteTime": {
     "end_time": "2022-06-11T17:18:52.692110Z",
     "start_time": "2022-06-11T17:18:52.571391Z"
    }
   },
   "outputs": [
    {
     "name": "stdout",
     "output_type": "stream",
     "text": [
      "<class 'pandas.core.frame.DataFrame'>\n",
      "RangeIndex: 162233 entries, 0 to 162232\n",
      "Data columns (total 6 columns):\n",
      " #   Column        Non-Null Count   Dtype \n",
      "---  ------        --------------   ----- \n",
      " 0   orig_text     162233 non-null  object\n",
      " 1   sentiment     162233 non-null  object\n",
      " 2   cleaned_text  162233 non-null  object\n",
      " 3   user_name     162232 non-null  object\n",
      " 4   date          162233 non-null  object\n",
      " 5   hashtags      128169 non-null  object\n",
      "dtypes: object(6)\n",
      "memory usage: 7.4+ MB\n"
     ]
    }
   ],
   "source": [
    "df_fastai.info()"
   ]
  },
  {
   "cell_type": "code",
   "execution_count": 11,
   "id": "e1b46d51",
   "metadata": {
    "ExecuteTime": {
     "end_time": "2022-06-11T17:18:52.799433Z",
     "start_time": "2022-06-11T17:18:52.693501Z"
    }
   },
   "outputs": [
    {
     "name": "stdout",
     "output_type": "stream",
     "text": [
      "<class 'pandas.core.frame.DataFrame'>\n",
      "RangeIndex: 135298 entries, 0 to 135297\n",
      "Data columns (total 6 columns):\n",
      " #   Column        Non-Null Count   Dtype \n",
      "---  ------        --------------   ----- \n",
      " 0   orig_text     135298 non-null  object\n",
      " 1   cleaned_text  135298 non-null  object\n",
      " 2   user_name     135297 non-null  object\n",
      " 3   date          135298 non-null  object\n",
      " 4   hashtags      107110 non-null  object\n",
      " 5   sentiment     135298 non-null  object\n",
      "dtypes: object(6)\n",
      "memory usage: 6.2+ MB\n"
     ]
    }
   ],
   "source": [
    "df_LR.info()"
   ]
  },
  {
   "cell_type": "code",
   "execution_count": 12,
   "id": "3ece7d1d",
   "metadata": {
    "ExecuteTime": {
     "end_time": "2022-06-11T17:18:52.836706Z",
     "start_time": "2022-06-11T17:18:52.802003Z"
    }
   },
   "outputs": [],
   "source": [
    "#Rearrange column\n",
    "df_fastai = df_fastai[['orig_text','cleaned_text','sentiment','user_name','date','hashtags']]\n",
    "df_LR = df_LR[['orig_text','cleaned_text','sentiment','user_name','date','hashtags']]"
   ]
  },
  {
   "cell_type": "code",
   "execution_count": 13,
   "id": "d5615d7f",
   "metadata": {
    "ExecuteTime": {
     "end_time": "2022-06-11T17:18:52.850636Z",
     "start_time": "2022-06-11T17:18:52.838283Z"
    }
   },
   "outputs": [
    {
     "data": {
      "text/plain": [
       "neutral     104595\n",
       "positive     29945\n",
       "negative     27693\n",
       "Name: sentiment, dtype: int64"
      ]
     },
     "execution_count": 13,
     "metadata": {},
     "output_type": "execute_result"
    }
   ],
   "source": [
    "df_fastai['sentiment'].value_counts()"
   ]
  },
  {
   "cell_type": "code",
   "execution_count": 14,
   "id": "8ec0f4fa",
   "metadata": {
    "ExecuteTime": {
     "end_time": "2022-06-11T17:18:52.866492Z",
     "start_time": "2022-06-11T17:18:52.852151Z"
    }
   },
   "outputs": [
    {
     "data": {
      "text/plain": [
       "neutral     91544\n",
       "positive    24885\n",
       "negative    18869\n",
       "Name: sentiment, dtype: int64"
      ]
     },
     "execution_count": 14,
     "metadata": {},
     "output_type": "execute_result"
    }
   ],
   "source": [
    "df_LR['sentiment'].value_counts()"
   ]
  },
  {
   "cell_type": "code",
   "execution_count": 16,
   "id": "fdab4c11",
   "metadata": {
    "ExecuteTime": {
     "end_time": "2022-06-11T17:20:01.973976Z",
     "start_time": "2022-06-11T17:20:01.767209Z"
    }
   },
   "outputs": [
    {
     "data": {
      "image/png": "[encoded data removed]",
      "text/plain": [
       "<Figure size 720x576 with 1 Axes>"
      ]
     },
     "metadata": {
      "needs_background": "light"
     },
     "output_type": "display_data"
    }
   ],
   "source": [
    "plt.figure(figsize=(10,8))\n",
    "ax = sns.countplot(x=df_fastai['sentiment'],palette=(['#1d0da5', '#0da526','r']),\n",
    "                  order = df_fastai['sentiment'].value_counts().index)\n",
    "\n",
    "ax.set(xlabel=None,ylabel=None)\n",
    "\n",
    "plt.show()"
   ]
  },
  {
   "cell_type": "code",
   "execution_count": 17,
   "id": "48901cfb",
   "metadata": {
    "ExecuteTime": {
     "end_time": "2022-06-11T17:20:04.701484Z",
     "start_time": "2022-06-11T17:20:04.553898Z"
    }
   },
   "outputs": [
    {
     "data": {
      "image/png": "[encoded data removed]",
      "text/plain": [
       "<Figure size 720x576 with 1 Axes>"
      ]
     },
     "metadata": {
      "needs_background": "light"
     },
     "output_type": "display_data"
    }
   ],
   "source": [
    "plt.figure(figsize=(10,8))\n",
    "ax = sns.countplot(x=df_LR['sentiment'],palette=(['#1d0da5', '#0da526','r']),\n",
    "                   order = df_LR['sentiment'].value_counts().index)\n",
    "\n",
    "ax.set(xlabel=None,ylabel=None)\n",
    "\n",
    "plt.show()"
   ]
  },
  {
   "cell_type": "code",
   "execution_count": 37,
   "id": "a7c84b96",
   "metadata": {
    "ExecuteTime": {
     "end_time": "2022-06-11T17:37:17.709971Z",
     "start_time": "2022-06-11T17:37:17.703396Z"
    }
   },
   "outputs": [],
   "source": [
    "#Split dataset into training and test set\n",
    "\n",
    "X_test = df_fastai['cleaned_text']\n",
    "y_test = df_fastai['sentiment']"
   ]
  },
  {
   "cell_type": "code",
   "execution_count": 41,
   "id": "5963f53c",
   "metadata": {
    "ExecuteTime": {
     "end_time": "2022-06-11T17:37:58.221109Z",
     "start_time": "2022-06-11T17:37:58.207386Z"
    }
   },
   "outputs": [],
   "source": [
    "#Classification performance evaluation\n",
    "\n",
    "def evaluate(model,index_text):\n",
    "    predict = model.predict(X_test)\n",
    "    \n",
    "    class_report = classification_report(y_test,predict,output_dict=True)\n",
    "    accuracy = class_report['accuracy']\n",
    "    precision = class_report['weighted avg']['precision']\n",
    "    recall = class_report['weighted avg']['recall']\n",
    "    f1 = class_report['weighted avg']['f1-score']\n",
    "    \n",
    "    print(\"\\n\"+index_text+\"\\n\")\n",
    "    print(classification_report(y_test,predict))\n",
    "    \n",
    "    #print(\"\\nROC AUC: \" + str(roc_auc))\n",
    "    \n",
    "    print(\"\\nConfusion Matrix:\\n\")\n",
    "    ConfusionMatrixDisplay.from_predictions(y_test, predict)\n",
    "    plt.show()\n",
    "    \n",
    "    return pd.DataFrame(\n",
    "        data={\"Accuracy\": accuracy, \"Precision\": precision, \"Recall\": recall, \"F1-Score\": f1},\n",
    "        index=[index_text]\n",
    "    )"
   ]
  },
  {
   "cell_type": "code",
   "execution_count": 39,
   "id": "cbd30984",
   "metadata": {
    "ExecuteTime": {
     "end_time": "2022-06-11T17:37:24.150860Z",
     "start_time": "2022-06-11T17:37:22.972620Z"
    }
   },
   "outputs": [],
   "source": [
    "LR_model = joblib.load('./modelling/model/LR_model.joblib')\n",
    "svm_model = joblib.load('./modelling/model/svm_model.joblib')\n",
    "nb_model = joblib.load('./modelling/model/nb_model.joblib')\n",
    "rf_model = joblib.load('./modelling/model/rf_model.joblib')"
   ]
  },
  {
   "cell_type": "code",
   "execution_count": 55,
   "id": "7c831ee5",
   "metadata": {
    "ExecuteTime": {
     "end_time": "2022-06-12T10:06:04.535389Z",
     "start_time": "2022-06-12T10:05:18.635048Z"
    }
   },
   "outputs": [
    {
     "name": "stdout",
     "output_type": "stream",
     "text": [
      "\n",
      "LogisticRegression\n",
      "\n",
      "              precision    recall  f1-score   support\n",
      "\n",
      "    negative       0.62      0.52      0.56     27693\n",
      "     neutral       0.82      0.85      0.84    104595\n",
      "    positive       0.71      0.73      0.72     29945\n",
      "\n",
      "    accuracy                           0.77    162233\n",
      "   macro avg       0.72      0.70      0.71    162233\n",
      "weighted avg       0.77      0.77      0.77    162233\n",
      "\n",
      "\n",
      "Confusion Matrix:\n",
      "\n"
     ]
    },
    {
     "data": {
      "image/png": "[encoded data removed]",
      "text/plain": [
       "<Figure size 432x288 with 2 Axes>"
      ]
     },
     "metadata": {
      "needs_background": "light"
     },
     "output_type": "display_data"
    },
    {
     "name": "stdout",
     "output_type": "stream",
     "text": [
      "\n",
      "LinearSVC\n",
      "\n",
      "              precision    recall  f1-score   support\n",
      "\n",
      "    negative       0.64      0.48      0.55     27693\n",
      "     neutral       0.82      0.86      0.84    104595\n",
      "    positive       0.70      0.73      0.71     29945\n",
      "\n",
      "    accuracy                           0.77    162233\n",
      "   macro avg       0.72      0.69      0.70    162233\n",
      "weighted avg       0.76      0.77      0.77    162233\n",
      "\n",
      "\n",
      "Confusion Matrix:\n",
      "\n"
     ]
    },
    {
     "data": {
      "image/png": "[encoded data removed]",
      "text/plain": [
       "<Figure size 432x288 with 2 Axes>"
      ]
     },
     "metadata": {
      "needs_background": "light"
     },
     "output_type": "display_data"
    },
    {
     "name": "stdout",
     "output_type": "stream",
     "text": [
      "\n",
      "MultinomialNB\n",
      "\n",
      "              precision    recall  f1-score   support\n",
      "\n",
      "    negative       0.71      0.26      0.39     27693\n",
      "     neutral       0.74      0.94      0.83    104595\n",
      "    positive       0.79      0.50      0.62     29945\n",
      "\n",
      "    accuracy                           0.75    162233\n",
      "   macro avg       0.75      0.57      0.61    162233\n",
      "weighted avg       0.75      0.75      0.72    162233\n",
      "\n",
      "\n",
      "Confusion Matrix:\n",
      "\n"
     ]
    },
    {
     "data": {
      "image/png": "[encoded data removed]",
      "text/plain": [
       "<Figure size 432x288 with 2 Axes>"
      ]
     },
     "metadata": {
      "needs_background": "light"
     },
     "output_type": "display_data"
    },
    {
     "name": "stdout",
     "output_type": "stream",
     "text": [
      "\n",
      "RandomForest\n",
      "\n",
      "              precision    recall  f1-score   support\n",
      "\n",
      "    negative       0.70      0.33      0.45     27693\n",
      "     neutral       0.79      0.91      0.84    104595\n",
      "    positive       0.74      0.68      0.71     29945\n",
      "\n",
      "    accuracy                           0.77    162233\n",
      "   macro avg       0.74      0.64      0.67    162233\n",
      "weighted avg       0.76      0.77      0.75    162233\n",
      "\n",
      "\n",
      "Confusion Matrix:\n",
      "\n"
     ]
    },
    {
     "data": {
      "image/png": "[encoded data removed]",
      "text/plain": [
       "<Figure size 432x288 with 2 Axes>"
      ]
     },
     "metadata": {
      "needs_background": "light"
     },
     "output_type": "display_data"
    }
   ],
   "source": [
    "eval_result = pd.DataFrame()\n",
    "\n",
    "for i in [LR_model,svm_model,nb_model,rf_model]:\n",
    "    listAlgo = re.compile (r'LogisticRegression|LinearSVC|MultinomialNB|RandomForest')\n",
    "    algo = listAlgo.search(str(i))\n",
    "    #print(mo1.group())\n",
    "    eval_result = pd.concat([eval_result,evaluate(i,algo.group())])"
   ]
  },
  {
   "cell_type": "code",
   "execution_count": 56,
   "id": "6fefb360",
   "metadata": {
    "ExecuteTime": {
     "end_time": "2022-06-12T10:06:15.148083Z",
     "start_time": "2022-06-12T10:06:15.119229Z"
    }
   },
   "outputs": [
    {
     "data": {
      "text/html": [
       "<div>\n",
       "<style scoped>\n",
       "    .dataframe tbody tr th:only-of-type {\n",
       "        vertical-align: middle;\n",
       "    }\n",
       "\n",
       "    .dataframe tbody tr th {\n",
       "        vertical-align: top;\n",
       "    }\n",
       "\n",
       "    .dataframe thead th {\n",
       "        text-align: right;\n",
       "    }\n",
       "</style>\n",
       "<table border=\"1\" class=\"dataframe\">\n",
       "  <thead>\n",
       "    <tr style=\"text-align: right;\">\n",
       "      <th></th>\n",
       "      <th>Accuracy</th>\n",
       "      <th>Precision</th>\n",
       "      <th>Recall</th>\n",
       "      <th>F1-Score</th>\n",
       "    </tr>\n",
       "  </thead>\n",
       "  <tbody>\n",
       "    <tr>\n",
       "      <th>LogisticRegression</th>\n",
       "      <td>0.771767</td>\n",
       "      <td>0.766604</td>\n",
       "      <td>0.771767</td>\n",
       "      <td>0.768215</td>\n",
       "    </tr>\n",
       "    <tr>\n",
       "      <th>LinearSVC</th>\n",
       "      <td>0.771070</td>\n",
       "      <td>0.764512</td>\n",
       "      <td>0.771070</td>\n",
       "      <td>0.765615</td>\n",
       "    </tr>\n",
       "    <tr>\n",
       "      <th>MultinomialNB</th>\n",
       "      <td>0.746470</td>\n",
       "      <td>0.746205</td>\n",
       "      <td>0.746470</td>\n",
       "      <td>0.715462</td>\n",
       "    </tr>\n",
       "    <tr>\n",
       "      <th>RandomForest</th>\n",
       "      <td>0.770904</td>\n",
       "      <td>0.762641</td>\n",
       "      <td>0.770904</td>\n",
       "      <td>0.752342</td>\n",
       "    </tr>\n",
       "  </tbody>\n",
       "</table>\n",
       "</div>"
      ],
      "text/plain": [
       "                    Accuracy  Precision    Recall  F1-Score\n",
       "LogisticRegression  0.771767   0.766604  0.771767  0.768215\n",
       "LinearSVC           0.771070   0.764512  0.771070  0.765615\n",
       "MultinomialNB       0.746470   0.746205  0.746470  0.715462\n",
       "RandomForest        0.770904   0.762641  0.770904  0.752342"
      ]
     },
     "execution_count": 56,
     "metadata": {},
     "output_type": "execute_result"
    }
   ],
   "source": [
    "eval_result"
   ]
  }
 ],
 "metadata": {
  "kernelspec": {
   "display_name": "Python 3 (ipykernel)",
   "language": "python",
   "name": "python3"
  },
  "language_info": {
   "codemirror_mode": {
    "name": "ipython",
    "version": 3
   },
   "file_extension": ".py",
   "mimetype": "text/x-python",
   "name": "python",
   "nbconvert_exporter": "python",
   "pygments_lexer": "ipython3",
   "version": "3.9.12"
  }
 },
 "nbformat": 4,
 "nbformat_minor": 5
}
