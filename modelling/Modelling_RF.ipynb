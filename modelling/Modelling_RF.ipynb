{
 "cells": [
  {
   "cell_type": "code",
   "execution_count": 1,
   "id": "74c10921",
   "metadata": {
    "ExecuteTime": {
     "end_time": "2022-06-04T09:17:25.198220Z",
     "start_time": "2022-06-04T09:17:23.783332Z"
    }
   },
   "outputs": [
    {
     "name": "stderr",
     "output_type": "stream",
     "text": [
      "Intel(R) Extension for Scikit-learn* enabled (https://github.com/intel/scikit-learn-intelex)\n"
     ]
    }
   ],
   "source": [
    "from sklearnex import patch_sklearn\n",
    "patch_sklearn()\n",
    "import pandas as pd\n",
    "import nltk\n",
    "import string,re\n",
    "import joblib\n",
    "\n",
    "from sklearn.model_selection import train_test_split\n",
    "from sklearn.feature_extraction.text import TfidfVectorizer\n",
    "from sklearn.ensemble import RandomForestClassifier\n",
    "from sklearn.pipeline import Pipeline\n",
    "from sklearn.model_selection import GridSearchCV\n",
    "from sklearn.metrics import (ConfusionMatrixDisplay,classification_report,accuracy_score,\n",
    "                            precision_score,roc_auc_score)\n",
    "from imblearn.over_sampling import SMOTE\n",
    "from imblearn.under_sampling import TomekLinks\n",
    "import matplotlib.pyplot as plt\n",
    "from imblearn.pipeline import Pipeline as pp\n",
    "\n",
    "pd.set_option('display.max_colwidth', 400)\n",
    "pd.set_option('display.max_rows', 1000) "
   ]
  },
  {
   "cell_type": "code",
   "execution_count": 2,
   "id": "3c8adaf0",
   "metadata": {
    "ExecuteTime": {
     "end_time": "2022-06-04T09:17:25.333361Z",
     "start_time": "2022-06-04T09:17:25.199964Z"
    }
   },
   "outputs": [],
   "source": [
    "df_cleaned = pd.read_csv(\"../dataset/vax_tweets_sentiment_cleaned.csv\")"
   ]
  },
  {
   "cell_type": "code",
   "execution_count": 3,
   "id": "b56eaff2",
   "metadata": {
    "ExecuteTime": {
     "end_time": "2022-06-04T09:17:25.348938Z",
     "start_time": "2022-06-04T09:17:25.334829Z"
    }
   },
   "outputs": [
    {
     "data": {
      "text/html": [
       "<div>\n",
       "<style scoped>\n",
       "    .dataframe tbody tr th:only-of-type {\n",
       "        vertical-align: middle;\n",
       "    }\n",
       "\n",
       "    .dataframe tbody tr th {\n",
       "        vertical-align: top;\n",
       "    }\n",
       "\n",
       "    .dataframe thead th {\n",
       "        text-align: right;\n",
       "    }\n",
       "</style>\n",
       "<table border=\"1\" class=\"dataframe\">\n",
       "  <thead>\n",
       "    <tr style=\"text-align: right;\">\n",
       "      <th></th>\n",
       "      <th>orig_text</th>\n",
       "      <th>sentiment</th>\n",
       "      <th>user_name</th>\n",
       "      <th>date</th>\n",
       "      <th>hashtags</th>\n",
       "      <th>cleaned_text</th>\n",
       "    </tr>\n",
       "  </thead>\n",
       "  <tbody>\n",
       "    <tr>\n",
       "      <th>0</th>\n",
       "      <td>Same folks said daikon paste could treat a cytokine storm #PfizerBioNTech https://t.co/xeHhIMg1kF</td>\n",
       "      <td>neutral</td>\n",
       "      <td>Rachel Roh</td>\n",
       "      <td>2020-12-20</td>\n",
       "      <td>['PfizerBioNTech']</td>\n",
       "      <td>same folks daikon paste could treat cytokine storm</td>\n",
       "    </tr>\n",
       "    <tr>\n",
       "      <th>1</th>\n",
       "      <td>While the world has been on the wrong side of history this year, hopefully, the biggest vaccination effort we've ev… https://t.co/dlCHrZjkhm</td>\n",
       "      <td>positive</td>\n",
       "      <td>Albert Fong</td>\n",
       "      <td>2020-12-13</td>\n",
       "      <td>NaN</td>\n",
       "      <td>while world wrong side history year hopefully biggest vaccination effort ev</td>\n",
       "    </tr>\n",
       "    <tr>\n",
       "      <th>2</th>\n",
       "      <td>#coronavirus #SputnikV #AstraZeneca #PfizerBioNTech #Moderna #Covid_19 Russian vaccine is created to last 2-4 years… https://t.co/ieYlCKBr8P</td>\n",
       "      <td>neutral</td>\n",
       "      <td>eli🇱🇹🇪🇺👌</td>\n",
       "      <td>2020-12-12</td>\n",
       "      <td>['coronavirus', 'SputnikV', 'AstraZeneca', 'PfizerBioNTech', 'Moderna', 'Covid_19']</td>\n",
       "      <td>russian vaccine created last years</td>\n",
       "    </tr>\n",
       "    <tr>\n",
       "      <th>3</th>\n",
       "      <td>Facts are immutable, Senator, even when you're not ethically sturdy enough to acknowledge them. (1) You were born i… https://t.co/jqgV18kch4</td>\n",
       "      <td>neutral</td>\n",
       "      <td>Charles Adler</td>\n",
       "      <td>2020-12-12</td>\n",
       "      <td>NaN</td>\n",
       "      <td>facts immutable senator even not ethically sturdy enough acknowledge were born</td>\n",
       "    </tr>\n",
       "    <tr>\n",
       "      <th>4</th>\n",
       "      <td>Explain to me again why we need a vaccine @BorisJohnson @MattHancock #whereareallthesickpeople #PfizerBioNTech… https://t.co/KxbSRoBEHq</td>\n",
       "      <td>neutral</td>\n",
       "      <td>Citizen News Channel</td>\n",
       "      <td>2020-12-12</td>\n",
       "      <td>['whereareallthesickpeople', 'PfizerBioNTech']</td>\n",
       "      <td>explain again need vaccine</td>\n",
       "    </tr>\n",
       "  </tbody>\n",
       "</table>\n",
       "</div>"
      ],
      "text/plain": [
       "                                                                                                                                      orig_text  \\\n",
       "0                                             Same folks said daikon paste could treat a cytokine storm #PfizerBioNTech https://t.co/xeHhIMg1kF   \n",
       "1  While the world has been on the wrong side of history this year, hopefully, the biggest vaccination effort we've ev… https://t.co/dlCHrZjkhm   \n",
       "2  #coronavirus #SputnikV #AstraZeneca #PfizerBioNTech #Moderna #Covid_19 Russian vaccine is created to last 2-4 years… https://t.co/ieYlCKBr8P   \n",
       "3  Facts are immutable, Senator, even when you're not ethically sturdy enough to acknowledge them. (1) You were born i… https://t.co/jqgV18kch4   \n",
       "4       Explain to me again why we need a vaccine @BorisJohnson @MattHancock #whereareallthesickpeople #PfizerBioNTech… https://t.co/KxbSRoBEHq   \n",
       "\n",
       "  sentiment             user_name        date  \\\n",
       "0   neutral            Rachel Roh  2020-12-20   \n",
       "1  positive           Albert Fong  2020-12-13   \n",
       "2   neutral              eli🇱🇹🇪🇺👌  2020-12-12   \n",
       "3   neutral         Charles Adler  2020-12-12   \n",
       "4   neutral  Citizen News Channel  2020-12-12   \n",
       "\n",
       "                                                                              hashtags  \\\n",
       "0                                                                   ['PfizerBioNTech']   \n",
       "1                                                                                  NaN   \n",
       "2  ['coronavirus', 'SputnikV', 'AstraZeneca', 'PfizerBioNTech', 'Moderna', 'Covid_19']   \n",
       "3                                                                                  NaN   \n",
       "4                                       ['whereareallthesickpeople', 'PfizerBioNTech']   \n",
       "\n",
       "                                                                     cleaned_text  \n",
       "0                              same folks daikon paste could treat cytokine storm  \n",
       "1     while world wrong side history year hopefully biggest vaccination effort ev  \n",
       "2                                              russian vaccine created last years  \n",
       "3  facts immutable senator even not ethically sturdy enough acknowledge were born  \n",
       "4                                                      explain again need vaccine  "
      ]
     },
     "execution_count": 3,
     "metadata": {},
     "output_type": "execute_result"
    }
   ],
   "source": [
    "df_cleaned.head()"
   ]
  },
  {
   "cell_type": "code",
   "execution_count": 4,
   "id": "19501977",
   "metadata": {
    "ExecuteTime": {
     "end_time": "2022-06-04T09:17:25.376044Z",
     "start_time": "2022-06-04T09:17:25.351064Z"
    }
   },
   "outputs": [],
   "source": [
    "#Split dataset into training and test set\n",
    "\n",
    "x = df_cleaned['cleaned_text']\n",
    "y = df_cleaned['sentiment']\n",
    "\n",
    "X_train, X_test, y_train, y_test = train_test_split(x, y, test_size=0.2, random_state=1337)"
   ]
  },
  {
   "cell_type": "code",
   "execution_count": 5,
   "id": "da276e90",
   "metadata": {
    "ExecuteTime": {
     "end_time": "2022-06-04T09:17:25.383862Z",
     "start_time": "2022-06-04T09:17:25.379740Z"
    }
   },
   "outputs": [],
   "source": [
    "def create_grid_search(ml_algo):\n",
    "    tfidf = TfidfVectorizer()\n",
    "  \n",
    "    param_grid = {'rf__max_depth': [300,500,600],\n",
    "                  'rf__min_samples_leaf': [1,2],\n",
    "                  'rf__n_estimators': [50,80,100],\n",
    "                 'tfidf__ngram_range':[(1,1),(1,2)],\n",
    "                 'tfidf__max_features':[4000,6000,None]}\n",
    "                        \n",
    "    pipe = Pipeline(steps=[(\"tfidf\", tfidf), (\"rf\", ml_algo)])\n",
    "    \n",
    "    search = GridSearchCV(pipe, param_grid, cv=10, scoring=\"balanced_accuracy\", n_jobs=-1)\n",
    "    return search"
   ]
  },
  {
   "cell_type": "code",
   "execution_count": 6,
   "id": "9f1e0907",
   "metadata": {
    "ExecuteTime": {
     "end_time": "2022-06-04T10:07:42.429273Z",
     "start_time": "2022-06-04T09:17:25.385189Z"
    }
   },
   "outputs": [
    {
     "data": {
      "text/plain": [
       "GridSearchCV(cv=10,\n",
       "             estimator=Pipeline(steps=[('tfidf', TfidfVectorizer()),\n",
       "                                       ('rf',\n",
       "                                        RandomForestClassifier(n_jobs=-1,\n",
       "                                                               random_state=1337))]),\n",
       "             n_jobs=-1,\n",
       "             param_grid={'rf__max_depth': [300, 500, 600],\n",
       "                         'rf__min_samples_leaf': [1, 2],\n",
       "                         'rf__n_estimators': [50, 80, 100],\n",
       "                         'tfidf__max_features': [4000, 6000, None],\n",
       "                         'tfidf__ngram_range': [(1, 1), (1, 2)]},\n",
       "             scoring='balanced_accuracy')"
      ]
     },
     "execution_count": 6,
     "metadata": {},
     "output_type": "execute_result"
    }
   ],
   "source": [
    "#Run gridsearchcv to find best parameter for tfidf and machine learning algorithm\n",
    "\n",
    "rf = RandomForestClassifier(random_state=1337, n_jobs=-1)\n",
    "model_grid_search = create_grid_search(rf)\n",
    "\n",
    "model_grid_search.fit(X_train,y_train)"
   ]
  },
  {
   "cell_type": "code",
   "execution_count": 7,
   "id": "2e11c6a5",
   "metadata": {
    "ExecuteTime": {
     "end_time": "2022-06-04T10:07:42.437267Z",
     "start_time": "2022-06-04T10:07:42.431321Z"
    }
   },
   "outputs": [
    {
     "name": "stdout",
     "output_type": "stream",
     "text": [
      "Pipeline(steps=[('tfidf',\n",
      "                 TfidfVectorizer(max_features=4000, ngram_range=(1, 2))),\n",
      "                ('rf',\n",
      "                 RandomForestClassifier(max_depth=600, n_estimators=50,\n",
      "                                        n_jobs=-1, random_state=1337))])\n"
     ]
    }
   ],
   "source": [
    "print(model_grid_search.best_estimator_)"
   ]
  },
  {
   "cell_type": "code",
   "execution_count": 8,
   "id": "e45bd1ca",
   "metadata": {
    "ExecuteTime": {
     "end_time": "2022-06-04T10:07:43.311619Z",
     "start_time": "2022-06-04T10:07:42.438572Z"
    }
   },
   "outputs": [],
   "source": [
    "tfidf = TfidfVectorizer(ngram_range=(1,2),max_features=4000)\n",
    "tfidf.fit(X_train)\n",
    "\n",
    "X_train_tfidf = tfidf.transform(X_train)\n",
    "X_test_tfidf = tfidf.transform(X_test)"
   ]
  },
  {
   "cell_type": "code",
   "execution_count": 9,
   "id": "83533b33",
   "metadata": {
    "ExecuteTime": {
     "end_time": "2022-06-04T10:07:43.317303Z",
     "start_time": "2022-06-04T10:07:43.313347Z"
    }
   },
   "outputs": [],
   "source": [
    "#Undersampling functions\n",
    "\n",
    "def undersampling(ml_algo):\n",
    "    result = pd.DataFrame()\n",
    "    no_of_sample = pd.DataFrame()\n",
    "    \n",
    "    for sampler,index_text in [(TomekLinks(sampling_strategy = ['neutral'], n_jobs=-1),'RF+TomekLinks')]:\n",
    "                   \n",
    "        us_xtrain_tfidf, us_train_y = sampler.fit_resample(X_train_tfidf, y_train)\n",
    "        ml_algo.fit(us_xtrain_tfidf,us_train_y)\n",
    "        \n",
    "        result = pd.concat([result,evaluate(ml_algo,index_text)])\n",
    "    return result "
   ]
  },
  {
   "cell_type": "code",
   "execution_count": 10,
   "id": "46cca1b4",
   "metadata": {
    "ExecuteTime": {
     "end_time": "2022-06-04T10:07:43.324172Z",
     "start_time": "2022-06-04T10:07:43.320231Z"
    }
   },
   "outputs": [],
   "source": [
    "#Oversampling functions\n",
    "\n",
    "def oversampling(ml_algo):\n",
    "    result = pd.DataFrame()\n",
    "    for sampler,index_text in [(SMOTE(sampling_strategy={'positive': 6000,'negative': 6000},random_state=777,\n",
    "                                     n_jobs=-1), 'RF+SMOTE')]:\n",
    "        \n",
    "        os_xtrain_tfidf, os_train_y = sampler.fit_resample(X_train_tfidf, y_train)\n",
    "        ml_algo.fit(os_xtrain_tfidf,os_train_y)\n",
    "\n",
    "        result = pd.concat([result,evaluate(ml_algo,index_text)])\n",
    "    return result "
   ]
  },
  {
   "cell_type": "code",
   "execution_count": 20,
   "id": "e87d8f51",
   "metadata": {
    "ExecuteTime": {
     "end_time": "2022-06-04T11:03:03.510891Z",
     "start_time": "2022-06-04T11:03:03.497819Z"
    }
   },
   "outputs": [],
   "source": [
    "#Oversampling + Undersampling functions\n",
    "\n",
    "def over_under_sampling(ml_algo):\n",
    "    result = pd.DataFrame()\n",
    "    \n",
    "      \n",
    "    for sampler_over,index_text_over in [(SMOTE(sampling_strategy={'positive': 6000,'negative': 6000},\n",
    "                                               random_state=777, n_jobs=-1), 'SMOTE')]:\n",
    "        for sampler_under,index_text_under in [(TomekLinks(sampling_strategy = ['neutral'], n_jobs=-1),\n",
    "                                                'TomekLinks')]:\n",
    "            \n",
    "            over = sampler_over\n",
    "            under = sampler_under\n",
    "    \n",
    "            steps = [('o', over), ('u', under), ('m', ml_algo)]\n",
    "            pipeline = pp(steps=steps)\n",
    "    \n",
    "            pipeline.fit(X_train_tfidf, y_train)\n",
    "            result = pd.concat([result,evaluate(ml_algo,\"RF+\"+index_text_over+\"+\"+index_text_under)])\n",
    "    return result  "
   ]
  },
  {
   "cell_type": "code",
   "execution_count": 21,
   "id": "0a6dd0ae",
   "metadata": {
    "ExecuteTime": {
     "end_time": "2022-06-04T11:03:03.521714Z",
     "start_time": "2022-06-04T11:03:03.513766Z"
    }
   },
   "outputs": [],
   "source": [
    "#Classification performance evaluation\n",
    "\n",
    "def evaluate(model,index_text):\n",
    "    predict = model.predict(X_test_tfidf)\n",
    "    \n",
    "    class_report = classification_report(y_test,predict,output_dict=True)\n",
    "    accuracy = class_report['accuracy']\n",
    "    precision = class_report['weighted avg']['precision']\n",
    "    recall = class_report['weighted avg']['recall']\n",
    "    f1 = class_report['weighted avg']['f1-score']\n",
    "    \n",
    "    predict_proba = model.predict_proba(X_test_tfidf)\n",
    "    roc_auc = roc_auc_score(y_test, predict_proba, average=\"weighted\", multi_class=\"ovr\")\n",
    "    \n",
    "    print(\"\\n\"+index_text+\"\\n\")\n",
    "    print(classification_report(y_test,predict))\n",
    "    \n",
    "    print(\"\\nROC AUC: \" + str(roc_auc))\n",
    "    \n",
    "    print(\"\\nConfusion Matrix:\\n\")\n",
    "    ConfusionMatrixDisplay.from_predictions(y_test, predict)\n",
    "    plt.show()\n",
    "    \n",
    "    return pd.DataFrame(\n",
    "        data={\"Accuracy\": accuracy, \"Precision\": precision, \"Recall\": recall, \"F1-Score\": f1, \n",
    "              \"ROC AUC\": roc_auc},\n",
    "        index=[index_text]\n",
    "    )"
   ]
  },
  {
   "cell_type": "code",
   "execution_count": 22,
   "id": "cc7fa0da",
   "metadata": {
    "ExecuteTime": {
     "end_time": "2022-06-04T11:03:06.331508Z",
     "start_time": "2022-06-04T11:03:03.523546Z"
    }
   },
   "outputs": [
    {
     "name": "stdout",
     "output_type": "stream",
     "text": [
      "\n",
      "Random Forest\n",
      "\n",
      "              precision    recall  f1-score   support\n",
      "\n",
      "    negative       0.75      0.38      0.51       839\n",
      "     neutral       0.79      0.93      0.85      3334\n",
      "    positive       0.81      0.67      0.73      1170\n",
      "\n",
      "    accuracy                           0.79      5343\n",
      "   macro avg       0.78      0.66      0.70      5343\n",
      "weighted avg       0.78      0.79      0.77      5343\n",
      "\n",
      "\n",
      "ROC AUC: 0.8735424362718738\n",
      "\n",
      "Confusion Matrix:\n",
      "\n"
     ]
    },
    {
     "data": {
      "image/png": "[encoded data removed]",
      "text/plain": [
       "<Figure size 432x288 with 2 Axes>"
      ]
     },
     "metadata": {
      "needs_background": "light"
     },
     "output_type": "display_data"
    }
   ],
   "source": [
    "#Random Forest using original dateset\n",
    "\n",
    "rf = RandomForestClassifier(max_depth=600, n_estimators=50,n_jobs=-1, random_state=1337)\n",
    "rf.fit(X_train_tfidf,y_train)\n",
    "\n",
    "eval_result = evaluate(rf,\"Random Forest\")"
   ]
  },
  {
   "cell_type": "code",
   "execution_count": 23,
   "id": "6f36a44c",
   "metadata": {
    "ExecuteTime": {
     "end_time": "2022-06-04T11:03:09.427336Z",
     "start_time": "2022-06-04T11:03:06.333419Z"
    }
   },
   "outputs": [
    {
     "name": "stdout",
     "output_type": "stream",
     "text": [
      "\n",
      "RF + Class Weight Balanced\n",
      "\n",
      "              precision    recall  f1-score   support\n",
      "\n",
      "    negative       0.69      0.42      0.52       839\n",
      "     neutral       0.78      0.92      0.84      3334\n",
      "    positive       0.81      0.64      0.72      1170\n",
      "\n",
      "    accuracy                           0.78      5343\n",
      "   macro avg       0.76      0.66      0.70      5343\n",
      "weighted avg       0.78      0.78      0.77      5343\n",
      "\n",
      "\n",
      "ROC AUC: 0.8649035503844168\n",
      "\n",
      "Confusion Matrix:\n",
      "\n"
     ]
    },
    {
     "data": {
      "image/png": "[encoded data removed]",
      "text/plain": [
       "<Figure size 432x288 with 2 Axes>"
      ]
     },
     "metadata": {
      "needs_background": "light"
     },
     "output_type": "display_data"
    }
   ],
   "source": [
    "#Random Forest using class weight balanced parameter on original dataset \n",
    "\n",
    "rf_weight = RandomForestClassifier(max_depth=600, n_estimators=50,n_jobs=-1, random_state=1337,\n",
    "                                   class_weight=\"balanced\")\n",
    "\n",
    "rf_weight.fit(X_train_tfidf,y_train)\n",
    "\n",
    "eval_result = pd.concat([eval_result,evaluate(rf_weight,\"RF + Class Weight Balanced\")])"
   ]
  },
  {
   "cell_type": "code",
   "execution_count": 24,
   "id": "bdbde24e",
   "metadata": {
    "ExecuteTime": {
     "end_time": "2022-06-04T11:03:21.851383Z",
     "start_time": "2022-06-04T11:03:09.428617Z"
    }
   },
   "outputs": [
    {
     "name": "stdout",
     "output_type": "stream",
     "text": [
      "\n",
      "RF+TomekLinks\n",
      "\n",
      "              precision    recall  f1-score   support\n",
      "\n",
      "    negative       0.73      0.39      0.51       839\n",
      "     neutral       0.79      0.92      0.85      3334\n",
      "    positive       0.80      0.68      0.74      1170\n",
      "\n",
      "    accuracy                           0.79      5343\n",
      "   macro avg       0.77      0.66      0.70      5343\n",
      "weighted avg       0.78      0.79      0.77      5343\n",
      "\n",
      "\n",
      "ROC AUC: 0.8700864018367982\n",
      "\n",
      "Confusion Matrix:\n",
      "\n"
     ]
    },
    {
     "data": {
      "image/png": "[encoded data removed]",
      "text/plain": [
       "<Figure size 432x288 with 2 Axes>"
      ]
     },
     "metadata": {
      "needs_background": "light"
     },
     "output_type": "display_data"
    }
   ],
   "source": [
    "#Random Forest using undersampled dataset\n",
    "\n",
    "rf = RandomForestClassifier(max_depth=600, n_estimators=50,n_jobs=-1, random_state=1337)\n",
    "eval_result = pd.concat([eval_result,undersampling(rf)])"
   ]
  },
  {
   "cell_type": "code",
   "execution_count": 25,
   "id": "a8d3aa0a",
   "metadata": {
    "ExecuteTime": {
     "end_time": "2022-06-04T11:03:25.950873Z",
     "start_time": "2022-06-04T11:03:21.852733Z"
    }
   },
   "outputs": [
    {
     "name": "stdout",
     "output_type": "stream",
     "text": [
      "\n",
      "RF+SMOTE\n",
      "\n",
      "              precision    recall  f1-score   support\n",
      "\n",
      "    negative       0.67      0.41      0.50       839\n",
      "     neutral       0.78      0.92      0.84      3334\n",
      "    positive       0.82      0.64      0.72      1170\n",
      "\n",
      "    accuracy                           0.78      5343\n",
      "   macro avg       0.76      0.65      0.69      5343\n",
      "weighted avg       0.77      0.78      0.76      5343\n",
      "\n",
      "\n",
      "ROC AUC: 0.8599057674264728\n",
      "\n",
      "Confusion Matrix:\n",
      "\n"
     ]
    },
    {
     "data": {
      "image/png": "[encoded data removed]",
      "text/plain": [
       "<Figure size 432x288 with 2 Axes>"
      ]
     },
     "metadata": {
      "needs_background": "light"
     },
     "output_type": "display_data"
    }
   ],
   "source": [
    "#Random Forest using oversampled dataset\n",
    "\n",
    "eval_result = pd.concat([eval_result,oversampling(rf)])"
   ]
  },
  {
   "cell_type": "code",
   "execution_count": 26,
   "id": "dc856996",
   "metadata": {
    "ExecuteTime": {
     "end_time": "2022-06-04T11:03:43.532659Z",
     "start_time": "2022-06-04T11:03:25.952481Z"
    }
   },
   "outputs": [
    {
     "name": "stdout",
     "output_type": "stream",
     "text": [
      "\n",
      "RF+SMOTE+TomekLinks\n",
      "\n",
      "              precision    recall  f1-score   support\n",
      "\n",
      "    negative       0.68      0.41      0.51       839\n",
      "     neutral       0.78      0.92      0.84      3334\n",
      "    positive       0.81      0.64      0.72      1170\n",
      "\n",
      "    accuracy                           0.78      5343\n",
      "   macro avg       0.76      0.65      0.69      5343\n",
      "weighted avg       0.77      0.78      0.76      5343\n",
      "\n",
      "\n",
      "ROC AUC: 0.8576834990206018\n",
      "\n",
      "Confusion Matrix:\n",
      "\n"
     ]
    },
    {
     "data": {
      "image/png": "[encoded data removed]",
      "text/plain": [
       "<Figure size 432x288 with 2 Axes>"
      ]
     },
     "metadata": {
      "needs_background": "light"
     },
     "output_type": "display_data"
    }
   ],
   "source": [
    "#Random Forest using oversampled & undersampled dataset \n",
    "\n",
    "eval_result = pd.concat([eval_result,over_under_sampling(rf)])"
   ]
  },
  {
   "cell_type": "code",
   "execution_count": 27,
   "id": "7de1d911",
   "metadata": {
    "ExecuteTime": {
     "end_time": "2022-06-04T11:03:43.542084Z",
     "start_time": "2022-06-04T11:03:43.534517Z"
    }
   },
   "outputs": [
    {
     "data": {
      "text/html": [
       "<div>\n",
       "<style scoped>\n",
       "    .dataframe tbody tr th:only-of-type {\n",
       "        vertical-align: middle;\n",
       "    }\n",
       "\n",
       "    .dataframe tbody tr th {\n",
       "        vertical-align: top;\n",
       "    }\n",
       "\n",
       "    .dataframe thead th {\n",
       "        text-align: right;\n",
       "    }\n",
       "</style>\n",
       "<table border=\"1\" class=\"dataframe\">\n",
       "  <thead>\n",
       "    <tr style=\"text-align: right;\">\n",
       "      <th></th>\n",
       "      <th>Accuracy</th>\n",
       "      <th>Precision</th>\n",
       "      <th>Recall</th>\n",
       "      <th>F1-Score</th>\n",
       "      <th>ROC AUC</th>\n",
       "    </tr>\n",
       "  </thead>\n",
       "  <tbody>\n",
       "    <tr>\n",
       "      <th>Random Forest</th>\n",
       "      <td>0.786075</td>\n",
       "      <td>0.784045</td>\n",
       "      <td>0.786075</td>\n",
       "      <td>0.770966</td>\n",
       "      <td>0.873542</td>\n",
       "    </tr>\n",
       "    <tr>\n",
       "      <th>RF + Class Weight Balanced</th>\n",
       "      <td>0.779525</td>\n",
       "      <td>0.775400</td>\n",
       "      <td>0.779525</td>\n",
       "      <td>0.766622</td>\n",
       "      <td>0.864904</td>\n",
       "    </tr>\n",
       "    <tr>\n",
       "      <th>RF+TomekLinks</th>\n",
       "      <td>0.785701</td>\n",
       "      <td>0.782015</td>\n",
       "      <td>0.785701</td>\n",
       "      <td>0.771205</td>\n",
       "      <td>0.870086</td>\n",
       "    </tr>\n",
       "    <tr>\n",
       "      <th>RF+SMOTE</th>\n",
       "      <td>0.775781</td>\n",
       "      <td>0.770710</td>\n",
       "      <td>0.775781</td>\n",
       "      <td>0.762302</td>\n",
       "      <td>0.859906</td>\n",
       "    </tr>\n",
       "    <tr>\n",
       "      <th>RF+SMOTE+TomekLinks</th>\n",
       "      <td>0.776530</td>\n",
       "      <td>0.771787</td>\n",
       "      <td>0.776530</td>\n",
       "      <td>0.762949</td>\n",
       "      <td>0.857683</td>\n",
       "    </tr>\n",
       "  </tbody>\n",
       "</table>\n",
       "</div>"
      ],
      "text/plain": [
       "                            Accuracy  Precision    Recall  F1-Score   ROC AUC\n",
       "Random Forest               0.786075   0.784045  0.786075  0.770966  0.873542\n",
       "RF + Class Weight Balanced  0.779525   0.775400  0.779525  0.766622  0.864904\n",
       "RF+TomekLinks               0.785701   0.782015  0.785701  0.771205  0.870086\n",
       "RF+SMOTE                    0.775781   0.770710  0.775781  0.762302  0.859906\n",
       "RF+SMOTE+TomekLinks         0.776530   0.771787  0.776530  0.762949  0.857683"
      ]
     },
     "execution_count": 27,
     "metadata": {},
     "output_type": "execute_result"
    }
   ],
   "source": [
    "#Random Forest performance comparison between original and resampled dataset \n",
    "\n",
    "eval_result"
   ]
  },
  {
   "cell_type": "code",
   "execution_count": 28,
   "id": "ccbc811f",
   "metadata": {
    "ExecuteTime": {
     "end_time": "2022-06-04T11:03:49.020282Z",
     "start_time": "2022-06-04T11:03:43.544350Z"
    }
   },
   "outputs": [
    {
     "data": {
      "text/plain": [
       "['./model/rf_model.joblib']"
      ]
     },
     "execution_count": 28,
     "metadata": {},
     "output_type": "execute_result"
    }
   ],
   "source": [
    "rf = RandomForestClassifier(max_depth=600, n_estimators=50,n_jobs=-1, random_state=1337)\n",
    "rf.fit(X_train_tfidf,y_train)\n",
    "\n",
    "tfidf = TfidfVectorizer(ngram_range=(1,2),max_features=4000)\n",
    "\n",
    "pipe_model = Pipeline(steps=[(\"tfidf\", tfidf), (\"rf\", rf)])\n",
    "\n",
    "pipe_model.fit(X_train,y_train)\n",
    "\n",
    "joblib.dump(pipe_model, './model/rf_model.joblib')"
   ]
  }
 ],
 "metadata": {
  "kernelspec": {
   "display_name": "Python 3 (ipykernel)",
   "language": "python",
   "name": "python3"
  },
  "language_info": {
   "codemirror_mode": {
    "name": "ipython",
    "version": 3
   },
   "file_extension": ".py",
   "mimetype": "text/x-python",
   "name": "python",
   "nbconvert_exporter": "python",
   "pygments_lexer": "ipython3",
   "version": "3.9.12"
  }
 },
 "nbformat": 4,
 "nbformat_minor": 5
}
