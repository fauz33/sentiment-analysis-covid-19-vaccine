{
 "cells": [
  {
   "cell_type": "code",
   "execution_count": 1,
   "id": "74c10921",
   "metadata": {
    "ExecuteTime": {
     "end_time": "2022-06-11T15:49:31.338732Z",
     "start_time": "2022-06-11T15:49:29.610657Z"
    }
   },
   "outputs": [
    {
     "name": "stderr",
     "output_type": "stream",
     "text": [
      "Intel(R) Extension for Scikit-learn* enabled (https://github.com/intel/scikit-learn-intelex)\n"
     ]
    }
   ],
   "source": [
    "from sklearnex import patch_sklearn\n",
    "patch_sklearn()\n",
    "import pandas as pd\n",
    "import nltk\n",
    "import string,re\n",
    "import joblib\n",
    "\n",
    "from sklearn.model_selection import train_test_split\n",
    "from sklearn.feature_extraction.text import TfidfVectorizer\n",
    "from sklearn.naive_bayes import MultinomialNB\n",
    "from sklearn.pipeline import Pipeline\n",
    "from sklearn.model_selection import GridSearchCV\n",
    "from sklearn.metrics import (ConfusionMatrixDisplay,classification_report,accuracy_score,\n",
    "                            precision_score,roc_auc_score)\n",
    "from imblearn.over_sampling import SMOTE\n",
    "from imblearn.under_sampling import TomekLinks\n",
    "import matplotlib.pyplot as plt\n",
    "from imblearn.pipeline import Pipeline as pp\n",
    "\n",
    "pd.set_option('display.max_colwidth', 400)\n",
    "pd.set_option('display.max_rows', 1000) "
   ]
  },
  {
   "cell_type": "code",
   "execution_count": 2,
   "id": "3c8adaf0",
   "metadata": {
    "ExecuteTime": {
     "end_time": "2022-06-11T15:49:31.497106Z",
     "start_time": "2022-06-11T15:49:31.340846Z"
    }
   },
   "outputs": [],
   "source": [
    "df_cleaned = pd.read_csv(\"../dataset/vax_tweets_sentiment_cleaned.csv\")"
   ]
  },
  {
   "cell_type": "code",
   "execution_count": 3,
   "id": "b56eaff2",
   "metadata": {
    "ExecuteTime": {
     "end_time": "2022-06-11T15:49:31.512808Z",
     "start_time": "2022-06-11T15:49:31.498527Z"
    }
   },
   "outputs": [
    {
     "data": {
      "text/html": [
       "<div>\n",
       "<style scoped>\n",
       "    .dataframe tbody tr th:only-of-type {\n",
       "        vertical-align: middle;\n",
       "    }\n",
       "\n",
       "    .dataframe tbody tr th {\n",
       "        vertical-align: top;\n",
       "    }\n",
       "\n",
       "    .dataframe thead th {\n",
       "        text-align: right;\n",
       "    }\n",
       "</style>\n",
       "<table border=\"1\" class=\"dataframe\">\n",
       "  <thead>\n",
       "    <tr style=\"text-align: right;\">\n",
       "      <th></th>\n",
       "      <th>orig_text</th>\n",
       "      <th>sentiment</th>\n",
       "      <th>user_name</th>\n",
       "      <th>date</th>\n",
       "      <th>hashtags</th>\n",
       "      <th>cleaned_text</th>\n",
       "    </tr>\n",
       "  </thead>\n",
       "  <tbody>\n",
       "    <tr>\n",
       "      <th>0</th>\n",
       "      <td>Same folks said daikon paste could treat a cytokine storm #PfizerBioNTech https://t.co/xeHhIMg1kF</td>\n",
       "      <td>neutral</td>\n",
       "      <td>Rachel Roh</td>\n",
       "      <td>2020-12-20</td>\n",
       "      <td>['PfizerBioNTech']</td>\n",
       "      <td>same folks daikon paste could treat cytokine storm</td>\n",
       "    </tr>\n",
       "    <tr>\n",
       "      <th>1</th>\n",
       "      <td>While the world has been on the wrong side of history this year, hopefully, the biggest vaccination effort we've ev… https://t.co/dlCHrZjkhm</td>\n",
       "      <td>positive</td>\n",
       "      <td>Albert Fong</td>\n",
       "      <td>2020-12-13</td>\n",
       "      <td>NaN</td>\n",
       "      <td>while world wrong side history year hopefully biggest vaccination effort ev</td>\n",
       "    </tr>\n",
       "    <tr>\n",
       "      <th>2</th>\n",
       "      <td>#coronavirus #SputnikV #AstraZeneca #PfizerBioNTech #Moderna #Covid_19 Russian vaccine is created to last 2-4 years… https://t.co/ieYlCKBr8P</td>\n",
       "      <td>neutral</td>\n",
       "      <td>eli🇱🇹🇪🇺👌</td>\n",
       "      <td>2020-12-12</td>\n",
       "      <td>['coronavirus', 'SputnikV', 'AstraZeneca', 'PfizerBioNTech', 'Moderna', 'Covid_19']</td>\n",
       "      <td>russian vaccine created last years</td>\n",
       "    </tr>\n",
       "    <tr>\n",
       "      <th>3</th>\n",
       "      <td>Facts are immutable, Senator, even when you're not ethically sturdy enough to acknowledge them. (1) You were born i… https://t.co/jqgV18kch4</td>\n",
       "      <td>neutral</td>\n",
       "      <td>Charles Adler</td>\n",
       "      <td>2020-12-12</td>\n",
       "      <td>NaN</td>\n",
       "      <td>facts immutable senator even not ethically sturdy enough acknowledge were born</td>\n",
       "    </tr>\n",
       "    <tr>\n",
       "      <th>4</th>\n",
       "      <td>Explain to me again why we need a vaccine @BorisJohnson @MattHancock #whereareallthesickpeople #PfizerBioNTech… https://t.co/KxbSRoBEHq</td>\n",
       "      <td>neutral</td>\n",
       "      <td>Citizen News Channel</td>\n",
       "      <td>2020-12-12</td>\n",
       "      <td>['whereareallthesickpeople', 'PfizerBioNTech']</td>\n",
       "      <td>explain again need vaccine</td>\n",
       "    </tr>\n",
       "  </tbody>\n",
       "</table>\n",
       "</div>"
      ],
      "text/plain": [
       "                                                                                                                                      orig_text  \\\n",
       "0                                             Same folks said daikon paste could treat a cytokine storm #PfizerBioNTech https://t.co/xeHhIMg1kF   \n",
       "1  While the world has been on the wrong side of history this year, hopefully, the biggest vaccination effort we've ev… https://t.co/dlCHrZjkhm   \n",
       "2  #coronavirus #SputnikV #AstraZeneca #PfizerBioNTech #Moderna #Covid_19 Russian vaccine is created to last 2-4 years… https://t.co/ieYlCKBr8P   \n",
       "3  Facts are immutable, Senator, even when you're not ethically sturdy enough to acknowledge them. (1) You were born i… https://t.co/jqgV18kch4   \n",
       "4       Explain to me again why we need a vaccine @BorisJohnson @MattHancock #whereareallthesickpeople #PfizerBioNTech… https://t.co/KxbSRoBEHq   \n",
       "\n",
       "  sentiment             user_name        date  \\\n",
       "0   neutral            Rachel Roh  2020-12-20   \n",
       "1  positive           Albert Fong  2020-12-13   \n",
       "2   neutral              eli🇱🇹🇪🇺👌  2020-12-12   \n",
       "3   neutral         Charles Adler  2020-12-12   \n",
       "4   neutral  Citizen News Channel  2020-12-12   \n",
       "\n",
       "                                                                              hashtags  \\\n",
       "0                                                                   ['PfizerBioNTech']   \n",
       "1                                                                                  NaN   \n",
       "2  ['coronavirus', 'SputnikV', 'AstraZeneca', 'PfizerBioNTech', 'Moderna', 'Covid_19']   \n",
       "3                                                                                  NaN   \n",
       "4                                       ['whereareallthesickpeople', 'PfizerBioNTech']   \n",
       "\n",
       "                                                                     cleaned_text  \n",
       "0                              same folks daikon paste could treat cytokine storm  \n",
       "1     while world wrong side history year hopefully biggest vaccination effort ev  \n",
       "2                                              russian vaccine created last years  \n",
       "3  facts immutable senator even not ethically sturdy enough acknowledge were born  \n",
       "4                                                      explain again need vaccine  "
      ]
     },
     "execution_count": 3,
     "metadata": {},
     "output_type": "execute_result"
    }
   ],
   "source": [
    "df_cleaned.head()"
   ]
  },
  {
   "cell_type": "code",
   "execution_count": 4,
   "id": "19501977",
   "metadata": {
    "ExecuteTime": {
     "end_time": "2022-06-11T15:49:31.555151Z",
     "start_time": "2022-06-11T15:49:31.514794Z"
    }
   },
   "outputs": [],
   "source": [
    "#Split dataset into training and test set\n",
    "\n",
    "x = df_cleaned['cleaned_text']\n",
    "y = df_cleaned['sentiment']\n",
    "\n",
    "X_train, X_test, y_train, y_test = train_test_split(x, y, test_size=0.2, random_state=1337)"
   ]
  },
  {
   "cell_type": "code",
   "execution_count": 5,
   "id": "99377244",
   "metadata": {
    "ExecuteTime": {
     "end_time": "2022-06-11T15:49:31.562217Z",
     "start_time": "2022-06-11T15:49:31.556947Z"
    }
   },
   "outputs": [],
   "source": [
    "def create_grid_search(ml_algo):\n",
    "    tfidf = TfidfVectorizer()\n",
    "  \n",
    "    param_grid = {'tfidf__ngram_range':[(1,1),(1,2)],\n",
    "                 'tfidf__max_features':[4000,9000,None]}\n",
    "        \n",
    "    pipe = Pipeline(steps=[(\"tfidf\", tfidf), (\"nb\", ml_algo)])\n",
    "    \n",
    "    search = GridSearchCV(pipe, param_grid, cv=10, scoring=\"balanced_accuracy\", n_jobs=-1)\n",
    "    return search"
   ]
  },
  {
   "cell_type": "code",
   "execution_count": 6,
   "id": "22a08b94",
   "metadata": {
    "ExecuteTime": {
     "end_time": "2022-06-11T15:49:44.227547Z",
     "start_time": "2022-06-11T15:49:31.566079Z"
    }
   },
   "outputs": [
    {
     "data": {
      "text/plain": [
       "GridSearchCV(cv=10,\n",
       "             estimator=Pipeline(steps=[('tfidf', TfidfVectorizer()),\n",
       "                                       ('nb', MultinomialNB())]),\n",
       "             n_jobs=-1,\n",
       "             param_grid={'tfidf__max_features': [4000, 9000, None],\n",
       "                         'tfidf__ngram_range': [(1, 1), (1, 2)]},\n",
       "             scoring='balanced_accuracy')"
      ]
     },
     "execution_count": 6,
     "metadata": {},
     "output_type": "execute_result"
    }
   ],
   "source": [
    "#Run gridsearchcv to find best parameter for tfidf and machine learning algorithm\n",
    "\n",
    "nb = MultinomialNB()\n",
    "model_grid_search = create_grid_search(nb)\n",
    "\n",
    "model_grid_search.fit(X_train,y_train)"
   ]
  },
  {
   "cell_type": "code",
   "execution_count": 7,
   "id": "62c966aa",
   "metadata": {
    "ExecuteTime": {
     "end_time": "2022-06-11T15:49:44.234850Z",
     "start_time": "2022-06-11T15:49:44.229106Z"
    }
   },
   "outputs": [
    {
     "name": "stdout",
     "output_type": "stream",
     "text": [
      "Pipeline(steps=[('tfidf',\n",
      "                 TfidfVectorizer(max_features=4000, ngram_range=(1, 2))),\n",
      "                ('nb', MultinomialNB())])\n"
     ]
    }
   ],
   "source": [
    "print(model_grid_search.best_estimator_)"
   ]
  },
  {
   "cell_type": "code",
   "execution_count": 8,
   "id": "e45bd1ca",
   "metadata": {
    "ExecuteTime": {
     "end_time": "2022-06-11T15:49:45.242223Z",
     "start_time": "2022-06-11T15:49:44.236705Z"
    }
   },
   "outputs": [],
   "source": [
    "tfidf = TfidfVectorizer(ngram_range=(1,2),max_features=4000)\n",
    "tfidf.fit(X_train)\n",
    "\n",
    "X_train_tfidf = tfidf.transform(X_train)\n",
    "X_test_tfidf = tfidf.transform(X_test)"
   ]
  },
  {
   "cell_type": "code",
   "execution_count": 9,
   "id": "83533b33",
   "metadata": {
    "ExecuteTime": {
     "end_time": "2022-06-11T15:49:45.249525Z",
     "start_time": "2022-06-11T15:49:45.244048Z"
    }
   },
   "outputs": [],
   "source": [
    "#Undersampling functions\n",
    "\n",
    "def undersampling(ml_algo):\n",
    "    result = pd.DataFrame()\n",
    "    no_of_sample = pd.DataFrame()\n",
    "    \n",
    "    for sampler,index_text in [(TomekLinks(sampling_strategy = ['neutral'], n_jobs=-1),'NB+TomekLinks')]:\n",
    "                   \n",
    "        us_xtrain_tfidf, us_train_y = sampler.fit_resample(X_train_tfidf, y_train)\n",
    "        ml_algo.fit(us_xtrain_tfidf,us_train_y)\n",
    "        \n",
    "        result = pd.concat([result,evaluate(ml_algo,index_text)])\n",
    "    return result "
   ]
  },
  {
   "cell_type": "code",
   "execution_count": 10,
   "id": "46cca1b4",
   "metadata": {
    "ExecuteTime": {
     "end_time": "2022-06-11T15:49:45.256338Z",
     "start_time": "2022-06-11T15:49:45.252769Z"
    }
   },
   "outputs": [],
   "source": [
    "#Oversampling functions\n",
    "\n",
    "def oversampling(ml_algo):\n",
    "    result = pd.DataFrame()\n",
    "    for sampler,index_text in [(SMOTE(sampling_strategy={'positive': 6000,'negative': 6000},random_state=777,\n",
    "                                     n_jobs=-1), 'NB+SMOTE')]:\n",
    "        \n",
    "        os_xtrain_tfidf, os_train_y = sampler.fit_resample(X_train_tfidf, y_train)\n",
    "        ml_algo.fit(os_xtrain_tfidf,os_train_y)\n",
    "\n",
    "        result = pd.concat([result,evaluate(ml_algo,index_text)])\n",
    "    return result "
   ]
  },
  {
   "cell_type": "code",
   "execution_count": 11,
   "id": "e87d8f51",
   "metadata": {
    "ExecuteTime": {
     "end_time": "2022-06-11T15:49:45.266513Z",
     "start_time": "2022-06-11T15:49:45.257991Z"
    }
   },
   "outputs": [],
   "source": [
    "#Oversampling + Undersampling functions\n",
    "\n",
    "def over_under_sampling(ml_algo):\n",
    "    result = pd.DataFrame()\n",
    "    \n",
    "      \n",
    "    for sampler_over,index_text_over in [(SMOTE(sampling_strategy={'positive': 6000,'negative': 6000},\n",
    "                                               random_state=777, n_jobs=-1), 'SMOTE')]:\n",
    "        for sampler_under,index_text_under in [(TomekLinks(sampling_strategy = ['neutral'], n_jobs=-1),\n",
    "                                                'TomekLinks')]:\n",
    "            \n",
    "            over = sampler_over\n",
    "            under = sampler_under\n",
    "    \n",
    "            steps = [('o', over), ('u', under), ('m', ml_algo)]\n",
    "            pipeline = pp(steps=steps)\n",
    "    \n",
    "            pipeline.fit(X_train_tfidf, y_train)\n",
    "            result = pd.concat([result,evaluate(ml_algo,\"NB+\"+index_text_over+\"+\"+index_text_under)])\n",
    "    return result   "
   ]
  },
  {
   "cell_type": "code",
   "execution_count": 12,
   "id": "ffd5e0d9",
   "metadata": {
    "ExecuteTime": {
     "end_time": "2022-06-11T15:49:45.279872Z",
     "start_time": "2022-06-11T15:49:45.268239Z"
    }
   },
   "outputs": [],
   "source": [
    "#Classification performance evaluation\n",
    "\n",
    "def evaluate(model,index_text):\n",
    "    predict = model.predict(X_test_tfidf)\n",
    "    \n",
    "    class_report = classification_report(y_test,predict,output_dict=True)\n",
    "    accuracy = class_report['accuracy']\n",
    "    precision = class_report['weighted avg']['precision']\n",
    "    recall = class_report['weighted avg']['recall']\n",
    "    f1 = class_report['weighted avg']['f1-score']\n",
    "    \n",
    "    predict_proba = model.predict_proba(X_test_tfidf)\n",
    "    roc_auc = roc_auc_score(y_test, predict_proba, average=\"weighted\", multi_class=\"ovr\")\n",
    "    \n",
    "    print(\"\\n\"+index_text+\"\\n\")\n",
    "    print(classification_report(y_test,predict))\n",
    "    \n",
    "    print(\"\\nROC AUC: \" + str(roc_auc))\n",
    "    \n",
    "    print(\"\\nConfusion Matrix:\\n\")\n",
    "    ConfusionMatrixDisplay.from_predictions(y_test, predict)\n",
    "    plt.show()\n",
    "    \n",
    "    return pd.DataFrame(\n",
    "        data={\"Accuracy\": accuracy, \"Precision\": precision, \"Recall\": recall, \"F1-Score\": f1, \n",
    "              \"ROC AUC\": roc_auc},\n",
    "        index=[index_text]\n",
    "    )"
   ]
  },
  {
   "cell_type": "code",
   "execution_count": 13,
   "id": "baa73a70",
   "metadata": {
    "ExecuteTime": {
     "end_time": "2022-06-11T15:49:45.699308Z",
     "start_time": "2022-06-11T15:49:45.281702Z"
    }
   },
   "outputs": [
    {
     "name": "stdout",
     "output_type": "stream",
     "text": [
      "\n",
      "Naïve Bayes\n",
      "\n",
      "              precision    recall  f1-score   support\n",
      "\n",
      "    negative       0.75      0.35      0.48       839\n",
      "     neutral       0.75      0.95      0.84      3334\n",
      "    positive       0.85      0.53      0.65      1170\n",
      "\n",
      "    accuracy                           0.76      5343\n",
      "   macro avg       0.78      0.61      0.66      5343\n",
      "weighted avg       0.77      0.76      0.74      5343\n",
      "\n",
      "\n",
      "ROC AUC: 0.8486121950000263\n",
      "\n",
      "Confusion Matrix:\n",
      "\n"
     ]
    },
    {
     "data": {
      "image/png": "[encoded data removed]",
      "text/plain": [
       "<Figure size 432x288 with 2 Axes>"
      ]
     },
     "metadata": {
      "needs_background": "light"
     },
     "output_type": "display_data"
    }
   ],
   "source": [
    "#Naïve Bayes using original dateset\n",
    "\n",
    "nb = MultinomialNB()\n",
    "nb.fit(X_train_tfidf,y_train)\n",
    "\n",
    "eval_result = evaluate(nb,\"Naïve Bayes\")"
   ]
  },
  {
   "cell_type": "code",
   "execution_count": 14,
   "id": "71fa2afd",
   "metadata": {
    "ExecuteTime": {
     "end_time": "2022-06-11T15:49:59.886991Z",
     "start_time": "2022-06-11T15:49:45.700898Z"
    }
   },
   "outputs": [
    {
     "name": "stdout",
     "output_type": "stream",
     "text": [
      "\n",
      "NB+TomekLinks\n",
      "\n",
      "              precision    recall  f1-score   support\n",
      "\n",
      "    negative       0.74      0.37      0.49       839\n",
      "     neutral       0.75      0.94      0.84      3334\n",
      "    positive       0.83      0.54      0.65      1170\n",
      "\n",
      "    accuracy                           0.76      5343\n",
      "   macro avg       0.77      0.62      0.66      5343\n",
      "weighted avg       0.77      0.76      0.74      5343\n",
      "\n",
      "\n",
      "ROC AUC: 0.8484112794832602\n",
      "\n",
      "Confusion Matrix:\n",
      "\n"
     ]
    },
    {
     "data": {
      "image/png": "[encoded data removed]",
      "text/plain": [
       "<Figure size 432x288 with 2 Axes>"
      ]
     },
     "metadata": {
      "needs_background": "light"
     },
     "output_type": "display_data"
    }
   ],
   "source": [
    "#Naïve Bayes using undersampled dataset\n",
    "\n",
    "nb = MultinomialNB()\n",
    "eval_result = pd.concat([eval_result,undersampling(nb)])"
   ]
  },
  {
   "cell_type": "code",
   "execution_count": 15,
   "id": "9d536fae",
   "metadata": {
    "ExecuteTime": {
     "end_time": "2022-06-11T15:50:01.072546Z",
     "start_time": "2022-06-11T15:49:59.888373Z"
    }
   },
   "outputs": [
    {
     "name": "stdout",
     "output_type": "stream",
     "text": [
      "\n",
      "NB+SMOTE\n",
      "\n",
      "              precision    recall  f1-score   support\n",
      "\n",
      "    negative       0.62      0.52      0.56       839\n",
      "     neutral       0.79      0.89      0.84      3334\n",
      "    positive       0.81      0.60      0.69      1170\n",
      "\n",
      "    accuracy                           0.77      5343\n",
      "   macro avg       0.74      0.67      0.70      5343\n",
      "weighted avg       0.77      0.77      0.76      5343\n",
      "\n",
      "\n",
      "ROC AUC: 0.8467624671860117\n",
      "\n",
      "Confusion Matrix:\n",
      "\n"
     ]
    },
    {
     "data": {
      "image/png": "[encoded data removed]",
      "text/plain": [
       "<Figure size 432x288 with 2 Axes>"
      ]
     },
     "metadata": {
      "needs_background": "light"
     },
     "output_type": "display_data"
    }
   ],
   "source": [
    "#Naïve Bayes using oversampled dataset\n",
    "\n",
    "eval_result = pd.concat([eval_result,oversampling(nb)])"
   ]
  },
  {
   "cell_type": "code",
   "execution_count": 16,
   "id": "99830aee",
   "metadata": {
    "ExecuteTime": {
     "end_time": "2022-06-11T15:50:20.478925Z",
     "start_time": "2022-06-11T15:50:01.074259Z"
    }
   },
   "outputs": [
    {
     "name": "stdout",
     "output_type": "stream",
     "text": [
      "\n",
      "NB+SMOTE+TomekLinks\n",
      "\n",
      "              precision    recall  f1-score   support\n",
      "\n",
      "    negative       0.61      0.52      0.56       839\n",
      "     neutral       0.79      0.89      0.84      3334\n",
      "    positive       0.80      0.61      0.69      1170\n",
      "\n",
      "    accuracy                           0.77      5343\n",
      "   macro avg       0.74      0.67      0.70      5343\n",
      "weighted avg       0.76      0.77      0.76      5343\n",
      "\n",
      "\n",
      "ROC AUC: 0.846677318595079\n",
      "\n",
      "Confusion Matrix:\n",
      "\n"
     ]
    },
    {
     "data": {
      "image/png": "[encoded data removed]",
      "text/plain": [
       "<Figure size 432x288 with 2 Axes>"
      ]
     },
     "metadata": {
      "needs_background": "light"
     },
     "output_type": "display_data"
    }
   ],
   "source": [
    "#Naïve Bayes using oversampled & undersampled dataset\n",
    "\n",
    "eval_result = pd.concat([eval_result,over_under_sampling(nb)])"
   ]
  },
  {
   "cell_type": "code",
   "execution_count": 17,
   "id": "757891a5",
   "metadata": {
    "ExecuteTime": {
     "end_time": "2022-06-11T15:50:20.492191Z",
     "start_time": "2022-06-11T15:50:20.480837Z"
    }
   },
   "outputs": [
    {
     "data": {
      "text/html": [
       "<div>\n",
       "<style scoped>\n",
       "    .dataframe tbody tr th:only-of-type {\n",
       "        vertical-align: middle;\n",
       "    }\n",
       "\n",
       "    .dataframe tbody tr th {\n",
       "        vertical-align: top;\n",
       "    }\n",
       "\n",
       "    .dataframe thead th {\n",
       "        text-align: right;\n",
       "    }\n",
       "</style>\n",
       "<table border=\"1\" class=\"dataframe\">\n",
       "  <thead>\n",
       "    <tr style=\"text-align: right;\">\n",
       "      <th></th>\n",
       "      <th>Accuracy</th>\n",
       "      <th>Precision</th>\n",
       "      <th>Recall</th>\n",
       "      <th>F1-Score</th>\n",
       "      <th>ROC AUC</th>\n",
       "    </tr>\n",
       "  </thead>\n",
       "  <tbody>\n",
       "    <tr>\n",
       "      <th>Naïve Bayes</th>\n",
       "      <td>0.763054</td>\n",
       "      <td>0.771461</td>\n",
       "      <td>0.763054</td>\n",
       "      <td>0.740239</td>\n",
       "      <td>0.848612</td>\n",
       "    </tr>\n",
       "    <tr>\n",
       "      <th>NB+TomekLinks</th>\n",
       "      <td>0.763990</td>\n",
       "      <td>0.768171</td>\n",
       "      <td>0.763990</td>\n",
       "      <td>0.743666</td>\n",
       "      <td>0.848411</td>\n",
       "    </tr>\n",
       "    <tr>\n",
       "      <th>NB+SMOTE</th>\n",
       "      <td>0.768482</td>\n",
       "      <td>0.765352</td>\n",
       "      <td>0.768482</td>\n",
       "      <td>0.760743</td>\n",
       "      <td>0.846762</td>\n",
       "    </tr>\n",
       "    <tr>\n",
       "      <th>NB+SMOTE+TomekLinks</th>\n",
       "      <td>0.768295</td>\n",
       "      <td>0.764831</td>\n",
       "      <td>0.768295</td>\n",
       "      <td>0.761114</td>\n",
       "      <td>0.846677</td>\n",
       "    </tr>\n",
       "  </tbody>\n",
       "</table>\n",
       "</div>"
      ],
      "text/plain": [
       "                     Accuracy  Precision    Recall  F1-Score   ROC AUC\n",
       "Naïve Bayes          0.763054   0.771461  0.763054  0.740239  0.848612\n",
       "NB+TomekLinks        0.763990   0.768171  0.763990  0.743666  0.848411\n",
       "NB+SMOTE             0.768482   0.765352  0.768482  0.760743  0.846762\n",
       "NB+SMOTE+TomekLinks  0.768295   0.764831  0.768295  0.761114  0.846677"
      ]
     },
     "execution_count": 17,
     "metadata": {},
     "output_type": "execute_result"
    }
   ],
   "source": [
    "#Naïve Bayes performance comparison between original and resampled dataset\n",
    "\n",
    "eval_result"
   ]
  },
  {
   "cell_type": "code",
   "execution_count": 18,
   "id": "d0dfcace",
   "metadata": {
    "ExecuteTime": {
     "end_time": "2022-06-11T15:50:21.615113Z",
     "start_time": "2022-06-11T15:50:20.493792Z"
    }
   },
   "outputs": [
    {
     "data": {
      "text/plain": [
       "['./model/nb_model.joblib']"
      ]
     },
     "execution_count": 18,
     "metadata": {},
     "output_type": "execute_result"
    }
   ],
   "source": [
    "#Save the best model using joblib\n",
    "\n",
    "tfidf = TfidfVectorizer(ngram_range=(1,2),max_features=4000)\n",
    "\n",
    "pipe_model = Pipeline(steps=[(\"tfidf\", tfidf), (\"nb\", nb)])\n",
    "\n",
    "pipe_model.fit(X_train,y_train)\n",
    "\n",
    "joblib.dump(pipe_model, './model/nb_model.joblib')"
   ]
  }
 ],
 "metadata": {
  "kernelspec": {
   "display_name": "Python 3 (ipykernel)",
   "language": "python",
   "name": "python3"
  },
  "language_info": {
   "codemirror_mode": {
    "name": "ipython",
    "version": 3
   },
   "file_extension": ".py",
   "mimetype": "text/x-python",
   "name": "python",
   "nbconvert_exporter": "python",
   "pygments_lexer": "ipython3",
   "version": "3.9.12"
  }
 },
 "nbformat": 4,
 "nbformat_minor": 5
}
