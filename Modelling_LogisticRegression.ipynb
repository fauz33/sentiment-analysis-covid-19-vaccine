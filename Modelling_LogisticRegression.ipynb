{
 "cells": [
  {
   "cell_type": "code",
   "execution_count": 1,
   "id": "74c10921",
   "metadata": {
    "ExecuteTime": {
     "end_time": "2022-06-04T07:51:47.109467Z",
     "start_time": "2022-06-04T07:51:45.613063Z"
    }
   },
   "outputs": [
    {
     "name": "stderr",
     "output_type": "stream",
     "text": [
      "Intel(R) Extension for Scikit-learn* enabled (https://github.com/intel/scikit-learn-intelex)\n"
     ]
    }
   ],
   "source": [
    "import pandas as pd\n",
    "import nltk\n",
    "import string,re\n",
    "import joblib\n",
    "\n",
    "from sklearnex import patch_sklearn\n",
    "patch_sklearn()\n",
    "from sklearn.model_selection import train_test_split\n",
    "from sklearn.feature_extraction.text import TfidfVectorizer\n",
    "from sklearn.linear_model import LogisticRegression\n",
    "from sklearn.pipeline import Pipeline\n",
    "from sklearn.model_selection import GridSearchCV\n",
    "from sklearn.metrics import (ConfusionMatrixDisplay,classification_report,accuracy_score,\n",
    "                            precision_score,roc_auc_score)\n",
    "from imblearn.over_sampling import SMOTE\n",
    "from imblearn.under_sampling import TomekLinks\n",
    "import matplotlib.pyplot as plt\n",
    "from imblearn.pipeline import Pipeline as pp\n",
    "\n",
    "pd.set_option('display.max_colwidth', 400)\n",
    "pd.set_option('display.max_rows', 1000) "
   ]
  },
  {
   "cell_type": "code",
   "execution_count": 2,
   "id": "3c8adaf0",
   "metadata": {
    "ExecuteTime": {
     "end_time": "2022-06-04T07:51:47.252481Z",
     "start_time": "2022-06-04T07:51:47.111319Z"
    }
   },
   "outputs": [],
   "source": [
    "df_cleaned = pd.read_csv(\"./dataset/vax_tweets_sentiment_cleaned.csv\")"
   ]
  },
  {
   "cell_type": "code",
   "execution_count": 3,
   "id": "b56eaff2",
   "metadata": {
    "ExecuteTime": {
     "end_time": "2022-06-04T07:51:47.265883Z",
     "start_time": "2022-06-04T07:51:47.254399Z"
    }
   },
   "outputs": [
    {
     "data": {
      "text/html": [
       "<div>\n",
       "<style scoped>\n",
       "    .dataframe tbody tr th:only-of-type {\n",
       "        vertical-align: middle;\n",
       "    }\n",
       "\n",
       "    .dataframe tbody tr th {\n",
       "        vertical-align: top;\n",
       "    }\n",
       "\n",
       "    .dataframe thead th {\n",
       "        text-align: right;\n",
       "    }\n",
       "</style>\n",
       "<table border=\"1\" class=\"dataframe\">\n",
       "  <thead>\n",
       "    <tr style=\"text-align: right;\">\n",
       "      <th></th>\n",
       "      <th>orig_text</th>\n",
       "      <th>sentiment</th>\n",
       "      <th>user_name</th>\n",
       "      <th>date</th>\n",
       "      <th>hashtags</th>\n",
       "      <th>cleaned_text</th>\n",
       "    </tr>\n",
       "  </thead>\n",
       "  <tbody>\n",
       "    <tr>\n",
       "      <th>0</th>\n",
       "      <td>Same folks said daikon paste could treat a cytokine storm #PfizerBioNTech https://t.co/xeHhIMg1kF</td>\n",
       "      <td>neutral</td>\n",
       "      <td>Rachel Roh</td>\n",
       "      <td>2020-12-20</td>\n",
       "      <td>['PfizerBioNTech']</td>\n",
       "      <td>same folks daikon paste could treat cytokine storm</td>\n",
       "    </tr>\n",
       "    <tr>\n",
       "      <th>1</th>\n",
       "      <td>While the world has been on the wrong side of history this year, hopefully, the biggest vaccination effort we've ev… https://t.co/dlCHrZjkhm</td>\n",
       "      <td>positive</td>\n",
       "      <td>Albert Fong</td>\n",
       "      <td>2020-12-13</td>\n",
       "      <td>NaN</td>\n",
       "      <td>while world wrong side history year hopefully biggest vaccination effort ev</td>\n",
       "    </tr>\n",
       "    <tr>\n",
       "      <th>2</th>\n",
       "      <td>#coronavirus #SputnikV #AstraZeneca #PfizerBioNTech #Moderna #Covid_19 Russian vaccine is created to last 2-4 years… https://t.co/ieYlCKBr8P</td>\n",
       "      <td>neutral</td>\n",
       "      <td>eli🇱🇹🇪🇺👌</td>\n",
       "      <td>2020-12-12</td>\n",
       "      <td>['coronavirus', 'SputnikV', 'AstraZeneca', 'PfizerBioNTech', 'Moderna', 'Covid_19']</td>\n",
       "      <td>russian vaccine created last years</td>\n",
       "    </tr>\n",
       "    <tr>\n",
       "      <th>3</th>\n",
       "      <td>Facts are immutable, Senator, even when you're not ethically sturdy enough to acknowledge them. (1) You were born i… https://t.co/jqgV18kch4</td>\n",
       "      <td>neutral</td>\n",
       "      <td>Charles Adler</td>\n",
       "      <td>2020-12-12</td>\n",
       "      <td>NaN</td>\n",
       "      <td>facts immutable senator even not ethically sturdy enough acknowledge were born</td>\n",
       "    </tr>\n",
       "    <tr>\n",
       "      <th>4</th>\n",
       "      <td>Explain to me again why we need a vaccine @BorisJohnson @MattHancock #whereareallthesickpeople #PfizerBioNTech… https://t.co/KxbSRoBEHq</td>\n",
       "      <td>neutral</td>\n",
       "      <td>Citizen News Channel</td>\n",
       "      <td>2020-12-12</td>\n",
       "      <td>['whereareallthesickpeople', 'PfizerBioNTech']</td>\n",
       "      <td>explain again need vaccine</td>\n",
       "    </tr>\n",
       "  </tbody>\n",
       "</table>\n",
       "</div>"
      ],
      "text/plain": [
       "                                                                                                                                      orig_text  \\\n",
       "0                                             Same folks said daikon paste could treat a cytokine storm #PfizerBioNTech https://t.co/xeHhIMg1kF   \n",
       "1  While the world has been on the wrong side of history this year, hopefully, the biggest vaccination effort we've ev… https://t.co/dlCHrZjkhm   \n",
       "2  #coronavirus #SputnikV #AstraZeneca #PfizerBioNTech #Moderna #Covid_19 Russian vaccine is created to last 2-4 years… https://t.co/ieYlCKBr8P   \n",
       "3  Facts are immutable, Senator, even when you're not ethically sturdy enough to acknowledge them. (1) You were born i… https://t.co/jqgV18kch4   \n",
       "4       Explain to me again why we need a vaccine @BorisJohnson @MattHancock #whereareallthesickpeople #PfizerBioNTech… https://t.co/KxbSRoBEHq   \n",
       "\n",
       "  sentiment             user_name        date  \\\n",
       "0   neutral            Rachel Roh  2020-12-20   \n",
       "1  positive           Albert Fong  2020-12-13   \n",
       "2   neutral              eli🇱🇹🇪🇺👌  2020-12-12   \n",
       "3   neutral         Charles Adler  2020-12-12   \n",
       "4   neutral  Citizen News Channel  2020-12-12   \n",
       "\n",
       "                                                                              hashtags  \\\n",
       "0                                                                   ['PfizerBioNTech']   \n",
       "1                                                                                  NaN   \n",
       "2  ['coronavirus', 'SputnikV', 'AstraZeneca', 'PfizerBioNTech', 'Moderna', 'Covid_19']   \n",
       "3                                                                                  NaN   \n",
       "4                                       ['whereareallthesickpeople', 'PfizerBioNTech']   \n",
       "\n",
       "                                                                     cleaned_text  \n",
       "0                              same folks daikon paste could treat cytokine storm  \n",
       "1     while world wrong side history year hopefully biggest vaccination effort ev  \n",
       "2                                              russian vaccine created last years  \n",
       "3  facts immutable senator even not ethically sturdy enough acknowledge were born  \n",
       "4                                                      explain again need vaccine  "
      ]
     },
     "execution_count": 3,
     "metadata": {},
     "output_type": "execute_result"
    }
   ],
   "source": [
    "df_cleaned.head()"
   ]
  },
  {
   "cell_type": "code",
   "execution_count": 4,
   "id": "19501977",
   "metadata": {
    "ExecuteTime": {
     "end_time": "2022-06-04T07:51:47.292263Z",
     "start_time": "2022-06-04T07:51:47.267893Z"
    }
   },
   "outputs": [],
   "source": [
    "#Split dataset into training and test set\n",
    "\n",
    "x = df_cleaned['cleaned_text']\n",
    "y = df_cleaned['sentiment']\n",
    "\n",
    "X_train, X_test, y_train, y_test = train_test_split(x, y, test_size=0.2, random_state=1337)"
   ]
  },
  {
   "cell_type": "code",
   "execution_count": 5,
   "id": "f95c2e78",
   "metadata": {
    "ExecuteTime": {
     "end_time": "2022-06-04T07:51:47.298184Z",
     "start_time": "2022-06-04T07:51:47.293572Z"
    }
   },
   "outputs": [],
   "source": [
    "def create_grid_search(ml_algo):\n",
    "    tfidf = TfidfVectorizer()\n",
    "  \n",
    "    param_grid = {'LR__C': [1,10,100],\n",
    "                 'tfidf__ngram_range':[(1,1),(1,2)],\n",
    "                 'tfidf__max_features':[4000,15000,None]}\n",
    "        \n",
    "    pipe = Pipeline(steps=[(\"tfidf\", tfidf), (\"LR\", ml_algo)])\n",
    "    \n",
    "    search = GridSearchCV(pipe, param_grid, cv=10, scoring=\"balanced_accuracy\", n_jobs=-1)\n",
    "    return search"
   ]
  },
  {
   "cell_type": "code",
   "execution_count": 6,
   "id": "34a81461",
   "metadata": {
    "ExecuteTime": {
     "end_time": "2022-06-04T07:59:50.660803Z",
     "start_time": "2022-06-04T07:51:47.299623Z"
    }
   },
   "outputs": [
    {
     "data": {
      "text/plain": [
       "GridSearchCV(cv=10,\n",
       "             estimator=Pipeline(steps=[('tfidf', TfidfVectorizer()),\n",
       "                                       ('LR',\n",
       "                                        LogisticRegression(max_iter=10000))]),\n",
       "             n_jobs=-1,\n",
       "             param_grid={'LR__C': [1, 10, 100],\n",
       "                         'tfidf__max_features': [4000, 15000, None],\n",
       "                         'tfidf__ngram_range': [(1, 1), (1, 2)]},\n",
       "             scoring='balanced_accuracy')"
      ]
     },
     "execution_count": 6,
     "metadata": {},
     "output_type": "execute_result"
    }
   ],
   "source": [
    "#Run gridsearchcv to find best parameter for tfidf and machine learning algorithm\n",
    "\n",
    "LR = LogisticRegression(max_iter=10000)\n",
    "model_grid_search = create_grid_search(LR)\n",
    "\n",
    "model_grid_search.fit(X_train,y_train)"
   ]
  },
  {
   "cell_type": "code",
   "execution_count": 7,
   "id": "06477428",
   "metadata": {
    "ExecuteTime": {
     "end_time": "2022-06-04T07:59:50.668406Z",
     "start_time": "2022-06-04T07:59:50.664147Z"
    }
   },
   "outputs": [
    {
     "name": "stdout",
     "output_type": "stream",
     "text": [
      "Pipeline(steps=[('tfidf', TfidfVectorizer(ngram_range=(1, 2))),\n",
      "                ('LR', LogisticRegression(C=100, max_iter=10000))])\n"
     ]
    }
   ],
   "source": [
    "print(model_grid_search.best_estimator_)"
   ]
  },
  {
   "cell_type": "code",
   "execution_count": 8,
   "id": "e45bd1ca",
   "metadata": {
    "ExecuteTime": {
     "end_time": "2022-06-04T07:59:51.579031Z",
     "start_time": "2022-06-04T07:59:50.669780Z"
    }
   },
   "outputs": [],
   "source": [
    "tfidf = TfidfVectorizer(ngram_range=(1,2))\n",
    "tfidf.fit(X_train)\n",
    "\n",
    "X_train_tfidf = tfidf.transform(X_train)\n",
    "X_test_tfidf = tfidf.transform(X_test)"
   ]
  },
  {
   "cell_type": "code",
   "execution_count": 9,
   "id": "83533b33",
   "metadata": {
    "ExecuteTime": {
     "end_time": "2022-06-04T07:59:51.584063Z",
     "start_time": "2022-06-04T07:59:51.580536Z"
    }
   },
   "outputs": [],
   "source": [
    "#Undersampling functions\n",
    "\n",
    "def undersampling(ml_algo):\n",
    "    result = pd.DataFrame()\n",
    "    no_of_sample = pd.DataFrame()\n",
    "    \n",
    "    for sampler,index_text in [(TomekLinks(sampling_strategy = ['neutral'], n_jobs=-1),'LR+TomekLinks')]:\n",
    "                   \n",
    "        us_xtrain_tfidf, us_train_y = sampler.fit_resample(X_train_tfidf, y_train)\n",
    "        ml_algo.fit(us_xtrain_tfidf,us_train_y)\n",
    "        \n",
    "        result = pd.concat([result,evaluate(ml_algo,index_text)])\n",
    "    return result "
   ]
  },
  {
   "cell_type": "code",
   "execution_count": 10,
   "id": "46cca1b4",
   "metadata": {
    "ExecuteTime": {
     "end_time": "2022-06-04T07:59:51.594625Z",
     "start_time": "2022-06-04T07:59:51.586178Z"
    }
   },
   "outputs": [],
   "source": [
    "#Oversampling functions\n",
    "\n",
    "def oversampling(ml_algo):\n",
    "    result = pd.DataFrame()\n",
    "    for sampler,index_text in [(SMOTE(sampling_strategy={'positive': 6000,'negative': 6000},random_state=777,\n",
    "                                     n_jobs=-1), 'LR+SMOTE')]:\n",
    "        \n",
    "        os_xtrain_tfidf, os_train_y = sampler.fit_resample(X_train_tfidf, y_train)\n",
    "        ml_algo.fit(os_xtrain_tfidf,os_train_y)\n",
    "\n",
    "        result = pd.concat([result,evaluate(ml_algo,index_text)])\n",
    "    return result "
   ]
  },
  {
   "cell_type": "code",
   "execution_count": 11,
   "id": "e87d8f51",
   "metadata": {
    "ExecuteTime": {
     "end_time": "2022-06-04T07:59:51.603106Z",
     "start_time": "2022-06-04T07:59:51.595844Z"
    }
   },
   "outputs": [],
   "source": [
    "#Oversampling + Undersampling functions\n",
    "\n",
    "def over_under_sampling(ml_algo):\n",
    "    result = pd.DataFrame()\n",
    "    \n",
    "      \n",
    "    for sampler_over,index_text_over in [(SMOTE(sampling_strategy={'positive': 6000,'negative': 6000},\n",
    "                                               random_state=777, n_jobs=-1), 'SMOTE')]:\n",
    "        for sampler_under,index_text_under in [(TomekLinks(sampling_strategy = ['neutral'], n_jobs=-1),\n",
    "                                                'TomekLinks')]:\n",
    "            \n",
    "            over = sampler_over\n",
    "            under = sampler_under\n",
    "    \n",
    "            steps = [('o', over), ('u', under), ('m', ml_algo)]\n",
    "            pipeline = pp(steps=steps)\n",
    "    \n",
    "            pipeline.fit(X_train_tfidf, y_train)\n",
    "            result = pd.concat([result,evaluate(ml_algo,\"LR+\"+index_text_over+\"+\"+index_text_under)])\n",
    "    return result   "
   ]
  },
  {
   "cell_type": "code",
   "execution_count": 12,
   "id": "47794868",
   "metadata": {
    "ExecuteTime": {
     "end_time": "2022-06-04T07:59:51.612721Z",
     "start_time": "2022-06-04T07:59:51.604309Z"
    }
   },
   "outputs": [],
   "source": [
    "#Classification performance evaluation\n",
    "\n",
    "def evaluate(model,index_text):\n",
    "    predict = model.predict(X_test_tfidf)\n",
    "    \n",
    "    class_report = classification_report(y_test,predict,output_dict=True)\n",
    "    accuracy = class_report['accuracy']\n",
    "    precision = class_report['weighted avg']['precision']\n",
    "    recall = class_report['weighted avg']['recall']\n",
    "    f1 = class_report['weighted avg']['f1-score']\n",
    "    \n",
    "    predict_proba = model.predict_proba(X_test_tfidf)\n",
    "    roc_auc = roc_auc_score(y_test, predict_proba, average=\"weighted\", multi_class=\"ovr\")\n",
    "    \n",
    "    print(\"\\n\"+index_text+\"\\n\")\n",
    "    print(classification_report(y_test,predict))\n",
    "    \n",
    "    print(\"\\nROC AUC: \" + str(roc_auc))\n",
    "    \n",
    "    print(\"\\nConfusion Matrix:\\n\")\n",
    "    ConfusionMatrixDisplay.from_predictions(y_test, predict)\n",
    "    plt.show()\n",
    "    \n",
    "    return pd.DataFrame(\n",
    "        data={\"Accuracy\": accuracy, \"Precision\": precision, \"Recall\": recall, \"F1-Score\": f1, \n",
    "              \"ROC AUC\": roc_auc},\n",
    "        index=[index_text]\n",
    "    )"
   ]
  },
  {
   "cell_type": "code",
   "execution_count": 13,
   "id": "bfaec0c0",
   "metadata": {
    "ExecuteTime": {
     "end_time": "2022-06-04T08:00:15.389854Z",
     "start_time": "2022-06-04T07:59:51.614149Z"
    }
   },
   "outputs": [
    {
     "name": "stdout",
     "output_type": "stream",
     "text": [
      "\n",
      "Logistic Regression\n",
      "\n",
      "              precision    recall  f1-score   support\n",
      "\n",
      "    negative       0.68      0.53      0.60       839\n",
      "     neutral       0.82      0.90      0.86      3334\n",
      "    positive       0.81      0.73      0.77      1170\n",
      "\n",
      "    accuracy                           0.80      5343\n",
      "   macro avg       0.77      0.72      0.74      5343\n",
      "weighted avg       0.80      0.80      0.80      5343\n",
      "\n",
      "\n",
      "ROC AUC: 0.8948570626639162\n",
      "\n",
      "Confusion Matrix:\n",
      "\n"
     ]
    },
    {
     "data": {
      "image/png": "[encoded data removed]",
      "text/plain": [
       "<Figure size 432x288 with 2 Axes>"
      ]
     },
     "metadata": {
      "needs_background": "light"
     },
     "output_type": "display_data"
    }
   ],
   "source": [
    "#Logistic Regression using original dateset\n",
    "\n",
    "LR = LogisticRegression(C=100, max_iter=10000)\n",
    "LR.fit(X_train_tfidf,y_train)\n",
    "\n",
    "eval_result = evaluate(LR,\"Logistic Regression\")"
   ]
  },
  {
   "cell_type": "code",
   "execution_count": 14,
   "id": "dde54d5b",
   "metadata": {
    "ExecuteTime": {
     "end_time": "2022-06-04T08:00:40.049276Z",
     "start_time": "2022-06-04T08:00:15.391870Z"
    }
   },
   "outputs": [
    {
     "name": "stdout",
     "output_type": "stream",
     "text": [
      "\n",
      "LR + Class Weight Balanced\n",
      "\n",
      "              precision    recall  f1-score   support\n",
      "\n",
      "    negative       0.64      0.61      0.62       839\n",
      "     neutral       0.85      0.87      0.86      3334\n",
      "    positive       0.80      0.77      0.78      1170\n",
      "\n",
      "    accuracy                           0.81      5343\n",
      "   macro avg       0.76      0.75      0.75      5343\n",
      "weighted avg       0.80      0.81      0.80      5343\n",
      "\n",
      "\n",
      "ROC AUC: 0.8960340231520814\n",
      "\n",
      "Confusion Matrix:\n",
      "\n"
     ]
    },
    {
     "data": {
      "image/png": "[encoded data removed]",
      "text/plain": [
       "<Figure size 432x288 with 2 Axes>"
      ]
     },
     "metadata": {
      "needs_background": "light"
     },
     "output_type": "display_data"
    }
   ],
   "source": [
    "#Logistic Regression using class weight balanced parameter on original dataset\n",
    "\n",
    "LR_weight = LogisticRegression(C=100, max_iter=10000,class_weight=\"balanced\")\n",
    "LR_weight.fit(X_train_tfidf,y_train)\n",
    "\n",
    "eval_result = pd.concat([eval_result,evaluate(LR_weight,\"LR + Class Weight Balanced\")])"
   ]
  },
  {
   "cell_type": "code",
   "execution_count": 15,
   "id": "387dddd6",
   "metadata": {
    "ExecuteTime": {
     "end_time": "2022-06-04T08:01:12.811870Z",
     "start_time": "2022-06-04T08:00:40.050567Z"
    }
   },
   "outputs": [
    {
     "name": "stdout",
     "output_type": "stream",
     "text": [
      "\n",
      "LR+TomekLinks\n",
      "\n",
      "              precision    recall  f1-score   support\n",
      "\n",
      "    negative       0.67      0.54      0.60       839\n",
      "     neutral       0.83      0.89      0.86      3334\n",
      "    positive       0.80      0.74      0.77      1170\n",
      "\n",
      "    accuracy                           0.80      5343\n",
      "   macro avg       0.77      0.73      0.74      5343\n",
      "weighted avg       0.80      0.80      0.80      5343\n",
      "\n",
      "\n",
      "ROC AUC: 0.8953142077140284\n",
      "\n",
      "Confusion Matrix:\n",
      "\n"
     ]
    },
    {
     "data": {
      "image/png": "[encoded data removed]",
      "text/plain": [
       "<Figure size 432x288 with 2 Axes>"
      ]
     },
     "metadata": {
      "needs_background": "light"
     },
     "output_type": "display_data"
    }
   ],
   "source": [
    "#Logistic Regression using undersampled dataset\n",
    "\n",
    "LR = LogisticRegression(C=100, max_iter=10000)\n",
    "eval_result = pd.concat([eval_result,undersampling(LR)])"
   ]
  },
  {
   "cell_type": "code",
   "execution_count": 16,
   "id": "51dad944",
   "metadata": {
    "ExecuteTime": {
     "end_time": "2022-06-04T08:01:40.319678Z",
     "start_time": "2022-06-04T08:01:12.814985Z"
    }
   },
   "outputs": [
    {
     "name": "stdout",
     "output_type": "stream",
     "text": [
      "\n",
      "LR+SMOTE\n",
      "\n",
      "              precision    recall  f1-score   support\n",
      "\n",
      "    negative       0.66      0.56      0.60       839\n",
      "     neutral       0.83      0.89      0.86      3334\n",
      "    positive       0.81      0.73      0.77      1170\n",
      "\n",
      "    accuracy                           0.80      5343\n",
      "   macro avg       0.77      0.73      0.74      5343\n",
      "weighted avg       0.80      0.80      0.80      5343\n",
      "\n",
      "\n",
      "ROC AUC: 0.8948467397183558\n",
      "\n",
      "Confusion Matrix:\n",
      "\n"
     ]
    },
    {
     "data": {
      "image/png": "[encoded data removed]",
      "text/plain": [
       "<Figure size 432x288 with 2 Axes>"
      ]
     },
     "metadata": {
      "needs_background": "light"
     },
     "output_type": "display_data"
    }
   ],
   "source": [
    "#Logistic Regression using oversampled dataset\n",
    "\n",
    "eval_result = pd.concat([eval_result,oversampling(LR)])"
   ]
  },
  {
   "cell_type": "code",
   "execution_count": 17,
   "id": "c22c31bd",
   "metadata": {
    "ExecuteTime": {
     "end_time": "2022-06-04T08:02:21.985043Z",
     "start_time": "2022-06-04T08:01:40.320986Z"
    }
   },
   "outputs": [
    {
     "name": "stdout",
     "output_type": "stream",
     "text": [
      "\n",
      "LR+SMOTE+TomekLinks\n",
      "\n",
      "              precision    recall  f1-score   support\n",
      "\n",
      "    negative       0.66      0.56      0.61       839\n",
      "     neutral       0.83      0.89      0.86      3334\n",
      "    positive       0.81      0.73      0.77      1170\n",
      "\n",
      "    accuracy                           0.80      5343\n",
      "   macro avg       0.77      0.73      0.74      5343\n",
      "weighted avg       0.80      0.80      0.80      5343\n",
      "\n",
      "\n",
      "ROC AUC: 0.8947990192298135\n",
      "\n",
      "Confusion Matrix:\n",
      "\n"
     ]
    },
    {
     "data": {
      "image/png": "[encoded data removed]",
      "text/plain": [
       "<Figure size 432x288 with 2 Axes>"
      ]
     },
     "metadata": {
      "needs_background": "light"
     },
     "output_type": "display_data"
    }
   ],
   "source": [
    "#Logistic Regression using oversampled & undersampled dataset\n",
    "\n",
    "eval_result = pd.concat([eval_result,over_under_sampling(LR)])"
   ]
  },
  {
   "cell_type": "code",
   "execution_count": 18,
   "id": "423aad72",
   "metadata": {
    "ExecuteTime": {
     "end_time": "2022-06-04T08:02:21.995691Z",
     "start_time": "2022-06-04T08:02:21.987433Z"
    }
   },
   "outputs": [
    {
     "data": {
      "text/html": [
       "<div>\n",
       "<style scoped>\n",
       "    .dataframe tbody tr th:only-of-type {\n",
       "        vertical-align: middle;\n",
       "    }\n",
       "\n",
       "    .dataframe tbody tr th {\n",
       "        vertical-align: top;\n",
       "    }\n",
       "\n",
       "    .dataframe thead th {\n",
       "        text-align: right;\n",
       "    }\n",
       "</style>\n",
       "<table border=\"1\" class=\"dataframe\">\n",
       "  <thead>\n",
       "    <tr style=\"text-align: right;\">\n",
       "      <th></th>\n",
       "      <th>Accuracy</th>\n",
       "      <th>Precision</th>\n",
       "      <th>Recall</th>\n",
       "      <th>F1-Score</th>\n",
       "      <th>ROC AUC</th>\n",
       "    </tr>\n",
       "  </thead>\n",
       "  <tbody>\n",
       "    <tr>\n",
       "      <th>Logistic Regression</th>\n",
       "      <td>0.802733</td>\n",
       "      <td>0.797560</td>\n",
       "      <td>0.802733</td>\n",
       "      <td>0.797200</td>\n",
       "      <td>0.894857</td>\n",
       "    </tr>\n",
       "    <tr>\n",
       "      <th>LR + Class Weight Balanced</th>\n",
       "      <td>0.805353</td>\n",
       "      <td>0.803215</td>\n",
       "      <td>0.805353</td>\n",
       "      <td>0.804055</td>\n",
       "      <td>0.896034</td>\n",
       "    </tr>\n",
       "    <tr>\n",
       "      <th>LR+TomekLinks</th>\n",
       "      <td>0.802920</td>\n",
       "      <td>0.797837</td>\n",
       "      <td>0.802920</td>\n",
       "      <td>0.798402</td>\n",
       "      <td>0.895314</td>\n",
       "    </tr>\n",
       "    <tr>\n",
       "      <th>LR+SMOTE</th>\n",
       "      <td>0.802545</td>\n",
       "      <td>0.798202</td>\n",
       "      <td>0.802545</td>\n",
       "      <td>0.798634</td>\n",
       "      <td>0.894847</td>\n",
       "    </tr>\n",
       "    <tr>\n",
       "      <th>LR+SMOTE+TomekLinks</th>\n",
       "      <td>0.803107</td>\n",
       "      <td>0.798674</td>\n",
       "      <td>0.803107</td>\n",
       "      <td>0.799171</td>\n",
       "      <td>0.894799</td>\n",
       "    </tr>\n",
       "  </tbody>\n",
       "</table>\n",
       "</div>"
      ],
      "text/plain": [
       "                            Accuracy  Precision    Recall  F1-Score   ROC AUC\n",
       "Logistic Regression         0.802733   0.797560  0.802733  0.797200  0.894857\n",
       "LR + Class Weight Balanced  0.805353   0.803215  0.805353  0.804055  0.896034\n",
       "LR+TomekLinks               0.802920   0.797837  0.802920  0.798402  0.895314\n",
       "LR+SMOTE                    0.802545   0.798202  0.802545  0.798634  0.894847\n",
       "LR+SMOTE+TomekLinks         0.803107   0.798674  0.803107  0.799171  0.894799"
      ]
     },
     "execution_count": 18,
     "metadata": {},
     "output_type": "execute_result"
    }
   ],
   "source": [
    "#Logistic Regression performance comparison between original and resampled dataset\n",
    "\n",
    "eval_result"
   ]
  },
  {
   "cell_type": "code",
   "execution_count": 19,
   "id": "ceac0f54",
   "metadata": {
    "ExecuteTime": {
     "end_time": "2022-06-04T08:02:44.723626Z",
     "start_time": "2022-06-04T08:02:21.997322Z"
    }
   },
   "outputs": [
    {
     "data": {
      "text/plain": [
       "['./model/LR_model.joblib']"
      ]
     },
     "execution_count": 19,
     "metadata": {},
     "output_type": "execute_result"
    }
   ],
   "source": [
    "#Save the best model using joblib\n",
    "\n",
    "LR_weight = LogisticRegression(C=100, max_iter=10000,class_weight=\"balanced\")\n",
    "\n",
    "tfidf = TfidfVectorizer(ngram_range=(1,2))\n",
    "\n",
    "pipe_model = Pipeline(steps=[(\"tfidf\", tfidf), (\"LR\", LR_weight)])\n",
    "\n",
    "pipe_model.fit(X_train,y_train)\n",
    "\n",
    "joblib.dump(pipe_model, './model/LR_model.joblib')"
   ]
  }
 ],
 "metadata": {
  "kernelspec": {
   "display_name": "Python 3 (ipykernel)",
   "language": "python",
   "name": "python3"
  },
  "language_info": {
   "codemirror_mode": {
    "name": "ipython",
    "version": 3
   },
   "file_extension": ".py",
   "mimetype": "text/x-python",
   "name": "python",
   "nbconvert_exporter": "python",
   "pygments_lexer": "ipython3",
   "version": "3.9.12"
  }
 },
 "nbformat": 4,
 "nbformat_minor": 5
}
